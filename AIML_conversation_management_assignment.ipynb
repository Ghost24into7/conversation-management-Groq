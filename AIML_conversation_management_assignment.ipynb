{
 "cells": [
  {
   "cell_type": "markdown",
   "id": "930ba11d",
   "metadata": {},
   "source": [
    "both predefined and userinput done"
   ]
  },
  {
   "cell_type": "code",
   "execution_count": 3,
   "id": "8701d4a2",
   "metadata": {},
   "outputs": [
    {
     "name": "stdout",
     "output_type": "stream",
     "text": [
      "Requirement already satisfied: openai in c:\\users\\myron\\appdata\\local\\programs\\python\\python312\\lib\\site-packages (1.75.0)\n",
      "Requirement already satisfied: anyio<5,>=3.5.0 in c:\\users\\myron\\appdata\\local\\programs\\python\\python312\\lib\\site-packages (from openai) (3.7.1)\n",
      "Requirement already satisfied: distro<2,>=1.7.0 in c:\\users\\myron\\appdata\\local\\programs\\python\\python312\\lib\\site-packages (from openai) (1.9.0)\n",
      "Requirement already satisfied: httpx<1,>=0.23.0 in c:\\users\\myron\\appdata\\local\\programs\\python\\python312\\lib\\site-packages (from openai) (0.28.1)\n",
      "Requirement already satisfied: jiter<1,>=0.4.0 in c:\\users\\myron\\appdata\\local\\programs\\python\\python312\\lib\\site-packages (from openai) (0.9.0)\n",
      "Requirement already satisfied: pydantic<3,>=1.9.0 in c:\\users\\myron\\appdata\\local\\programs\\python\\python312\\lib\\site-packages (from openai) (2.5.0)\n",
      "Requirement already satisfied: sniffio in c:\\users\\myron\\appdata\\local\\programs\\python\\python312\\lib\\site-packages (from openai) (1.3.1)\n",
      "Requirement already satisfied: tqdm>4 in c:\\users\\myron\\appdata\\local\\programs\\python\\python312\\lib\\site-packages (from openai) (4.67.1)\n",
      "Requirement already satisfied: typing-extensions<5,>=4.11 in c:\\users\\myron\\appdata\\local\\programs\\python\\python312\\lib\\site-packages (from openai) (4.14.1)\n",
      "Requirement already satisfied: idna>=2.8 in c:\\users\\myron\\appdata\\local\\programs\\python\\python312\\lib\\site-packages (from anyio<5,>=3.5.0->openai) (3.7)\n",
      "Requirement already satisfied: certifi in c:\\users\\myron\\appdata\\local\\programs\\python\\python312\\lib\\site-packages (from httpx<1,>=0.23.0->openai) (2025.8.3)\n",
      "Requirement already satisfied: httpcore==1.* in c:\\users\\myron\\appdata\\local\\programs\\python\\python312\\lib\\site-packages (from httpx<1,>=0.23.0->openai) (1.0.8)\n",
      "Requirement already satisfied: h11<0.15,>=0.13 in c:\\users\\myron\\appdata\\local\\programs\\python\\python312\\lib\\site-packages (from httpcore==1.*->httpx<1,>=0.23.0->openai) (0.14.0)\n",
      "Requirement already satisfied: annotated-types>=0.4.0 in c:\\users\\myron\\appdata\\local\\programs\\python\\python312\\lib\\site-packages (from pydantic<3,>=1.9.0->openai) (0.7.0)\n",
      "Requirement already satisfied: pydantic-core==2.14.1 in c:\\users\\myron\\appdata\\local\\programs\\python\\python312\\lib\\site-packages (from pydantic<3,>=1.9.0->openai) (2.14.1)\n",
      "Requirement already satisfied: colorama in c:\\users\\myron\\appdata\\local\\programs\\python\\python312\\lib\\site-packages (from tqdm>4->openai) (0.4.6)\n"
     ]
    },
    {
     "name": "stderr",
     "output_type": "stream",
     "text": [
      "\n",
      "[notice] A new release of pip is available: 25.1.1 -> 25.2\n",
      "[notice] To update, run: python.exe -m pip install --upgrade pip\n"
     ]
    }
   ],
   "source": [
    "!pip install openai"
   ]
  },
  {
   "cell_type": "markdown",
   "id": "f3e3ab23",
   "metadata": {},
   "source": [
    "**Basic foundation for task 1**"
   ]
  },
  {
   "cell_type": "code",
   "execution_count": null,
   "id": "5f714bf0",
   "metadata": {},
   "outputs": [
    {
     "name": "stdout",
     "output_type": "stream",
     "text": [
      "=== Demonstration: Basic Conversation with No Truncation/Summarization ===\n",
      "User: Hello, what's the weather like today?\n",
      "Assistant: I’m sorry, but I don’t have access to real‑time weather data.  \n",
      "You can quickly check the current conditions by:\n",
      "\n",
      "- Using a weather app on your phone (e.g., Weather.com, AccuWeather, or the built‑in weather app).  \n",
      "- Visiting a weather website such as [weather.com](https://weather.com) or [accuweather.com](https://www.accuweather.com).  \n",
      "- Asking a voice assistant like Siri, Google Assistant, or Alexa.\n",
      "\n",
      "If you tell me your city or zip code, I can give you a general idea of the typical weather for this time of year!\n",
      "\n",
      "User: Tell me a joke.\n",
      "Assistant: Sure thing! Here’s a light‑hearted one for you:\n",
      "\n",
      "**Why don’t skeletons fight each other?**\n",
      "\n",
      "Because they don’t have the guts! 😄\n",
      "\n",
      "User: What's the capital of France?\n",
      "Assistant: The capital of France is **Paris**.\n",
      "\n",
      "User: Explain quantum computing simply.\n",
      "Assistant: **Quantum computing in a nutshell**\n",
      "\n",
      "| Classical computer | Quantum computer |\n",
      "|---------------------|------------------|\n",
      "| Uses *bits* that are either **0** or **1** | Uses *qubits* that can be **0**, **1**, or *both at the same time* |\n",
      "| Operations are deterministic: you know exactly what the computer does | Operations are probabilistic, but the probabilities can be engineered to give useful answers |\n",
      "\n",
      "---\n",
      "\n",
      "### 1. Bits vs. Qubits  \n",
      "- **Bit** – the tiny on/off switch in a regular computer.  \n",
      "- **Qubit** – the quantum version of a bit. Because of *superposition*, a qubit can represent 0 and 1 simultaneously (think of a spinning coin that is both heads and tails until you look).\n",
      "\n",
      "### 2. Superposition  \n",
      "- A qubit in superposition is like a light that is partially on and partially off.  \n",
      "- If you have *n* qubits, you can represent \\(2^n\\) different states all at once. That’s why quantum computers can, in theory, try many possibilities in parallel.\n",
      "\n",
      "### 3. Entanglement  \n",
      "- When qubits become entangled, the state of one instantly affects the state of another, no matter how far apart they are.  \n",
      "- Entanglement lets quantum computers link qubits in ways that classical bits can’t, giving them extra “cooperation power.”\n",
      "\n",
      "### 4. Quantum Gates (the “logic” of a quantum circuit)  \n",
      "- Just as a classical computer uses logic gates (AND, OR, NOT) to manipulate bits, a quantum computer uses *quantum gates* to manipulate qubits.  \n",
      "- Gates change the probabilities of a qubit’s 0/1 outcomes, and because of superposition, they can rotate a qubit’s state in a multi‑dimensional space.\n",
      "\n",
      "### 5. Measurement – the final step  \n",
      "- When you read a qubit, it “collapses” to either 0 or 1.  \n",
      "- The trick is to design the computation so that the correct answer is most likely to appear when you measure.\n",
      "\n",
      "### 6. Why it matters  \n",
      "-\n",
      "\n",
      "Final History: [{'role': 'user', 'content': \"Hello, what's the weather like today?\"}, {'role': 'assistant', 'content': 'I’m sorry, but I don’t have access to real‑time weather data.  \\nYou can quickly check the current conditions by:\\n\\n- Using a weather app on your phone (e.g., Weather.com, AccuWeather, or the built‑in weather app).  \\n- Visiting a weather website such as [weather.com](https://weather.com) or [accuweather.com](https://www.accuweather.com).  \\n- Asking a voice assistant like Siri, Google Assistant, or Alexa.\\n\\nIf you tell me your city or zip code, I can give you a general idea of the typical weather for this time of year!'}, {'role': 'user', 'content': 'Tell me a joke.'}, {'role': 'assistant', 'content': 'Sure thing! Here’s a light‑hearted one for you:\\n\\n**Why don’t skeletons fight each other?**\\n\\nBecause they don’t have the guts! 😄'}, {'role': 'user', 'content': \"What's the capital of France?\"}, {'role': 'assistant', 'content': 'The capital of France is **Paris**.'}, {'role': 'user', 'content': 'Explain quantum computing simply.'}, {'role': 'assistant', 'content': '**Quantum computing in a nutshell**\\n\\n| Classical computer | Quantum computer |\\n|---------------------|------------------|\\n| Uses *bits* that are either **0** or **1** | Uses *qubits* that can be **0**, **1**, or *both at the same time* |\\n| Operations are deterministic: you know exactly what the computer does | Operations are probabilistic, but the probabilities can be engineered to give useful answers |\\n\\n---\\n\\n### 1. Bits vs. Qubits  \\n- **Bit** – the tiny on/off switch in a regular computer.  \\n- **Qubit** – the quantum version of a bit. Because of *superposition*, a qubit can represent 0 and 1 simultaneously (think of a spinning coin that is both heads and tails until you look).\\n\\n### 2. Superposition  \\n- A qubit in superposition is like a light that is partially on and partially off.  \\n- If you have *n* qubits, you can represent \\\\(2^n\\\\) different states all at once. That’s why quantum computers can, in theory, try many possibilities in parallel.\\n\\n### 3. Entanglement  \\n- When qubits become entangled, the state of one instantly affects the state of another, no matter how far apart they are.  \\n- Entanglement lets quantum computers link qubits in ways that classical bits can’t, giving them extra “cooperation power.”\\n\\n### 4. Quantum Gates (the “logic” of a quantum circuit)  \\n- Just as a classical computer uses logic gates (AND, OR, NOT) to manipulate bits, a quantum computer uses *quantum gates* to manipulate qubits.  \\n- Gates change the probabilities of a qubit’s 0/1 outcomes, and because of superposition, they can rotate a qubit’s state in a multi‑dimensional space.\\n\\n### 5. Measurement – the final step  \\n- When you read a qubit, it “collapses” to either 0 or 1.  \\n- The trick is to design the computation so that the correct answer is most likely to appear when you measure.\\n\\n### 6. Why it matters  \\n-'}]\n",
      "\n",
      "=== Demonstration: Truncation by Max Turns (last 4 messages) ===\n",
      "User: Hello, what's the weather like today?\n",
      "Assistant: I don’t have real‑time data, so I can’t tell you the current weather.  \n",
      "Would you like me to look up a typical forecast for a particular city or region? Or perhaps you’d like a quick reminder of how to check a reliable local weather source?\n",
      "\n",
      "User: Tell me a joke.\n",
      "Assistant: Why don’t skeletons fight each other?\n",
      "\n",
      "They don’t have the guts!\n",
      "\n",
      "User: What's the capital of France?\n",
      "Assistant: The capital of France is Paris.\n",
      "\n",
      "User: Explain quantum computing simply.\n",
      "Assistant: **Quantum computing in a nutshell**\n",
      "\n",
      "| Classical computer | Quantum computer |\n",
      "|---------------------|------------------|\n",
      "| **Bits** – the smallest unit of information. A bit is always either 0 or 1. | **Qubits** – the smallest unit of quantum information. A qubit can be 0, 1, or *both at the same time*. |\n",
      "| Operations are like logical gates (AND, OR, NOT). The computer follows a single, definite path of calculations. | Operations are quantum gates that act on qubits. Because qubits can be in many states simultaneously, the computer explores many calculation paths **at once**. |\n",
      "| Speed is limited by how many bits you can process and how fast you can flip them. | Speed can sky‑rocket for certain problems because of *parallelism* and *entanglement* (qubits become linked so that the state of one instantly influences the others). |\n",
      "\n",
      "---\n",
      "\n",
      "### The key ideas, broken down\n",
      "\n",
      "1. **Superposition**  \n",
      "   *Think of a spinning coin.* While it’s spinning, it’s both heads and tails.  \n",
      "   A qubit in superposition is like that spinning coin—until you look at it, it’s in a blend of 0 and 1.  \n",
      "   This lets a quantum computer hold many possibilities in one go.\n",
      "\n",
      "2. **Entanglement**  \n",
      "   Imagine two coins that are magically linked: if you flip one, the other instantly knows whether it’s heads or tails, no matter how far apart.  \n",
      "   Entangled qubits share information instantly, which lets quantum algorithms coordinate complex calculations more efficiently.\n",
      "\n",
      "3. **Interference**  \n",
      "   When many possibilities overlap, you can make the “right” answers add up (constructive interference) and the wrong ones cancel out (destructive interference).  \n",
      "   Quantum algorithms are designed so that the correct solution ends up with a high probability when you measure the qubits.\n",
      "\n",
      "4. **Measurement (reading the answer)**  \n",
      "   When you finally look at a qubit, it “collapses” to either 0 or 1.  \n",
      "   That’s why quantum algorithms are probabilistic: you run the algorithm many times and take the most common outcome.\n",
      "\n",
      "---\n",
      "\n",
      "### What it can do\n",
      "\n",
      "- **Factoring large numbers** – Shor’s algorithm can break RSA encryption much faster than the\n",
      "\n",
      "Final History (truncated to last 4 messages): [{'role': 'user', 'content': \"What's the capital of France?\"}, {'role': 'assistant', 'content': 'The capital of France is Paris.'}, {'role': 'user', 'content': 'Explain quantum computing simply.'}, {'role': 'assistant', 'content': '**Quantum computing in a nutshell**\\n\\n| Classical computer | Quantum computer |\\n|---------------------|------------------|\\n| **Bits** – the smallest unit of information. A bit is always either 0 or 1. | **Qubits** – the smallest unit of quantum information. A qubit can be 0, 1, or *both at the same time*. |\\n| Operations are like logical gates (AND, OR, NOT). The computer follows a single, definite path of calculations. | Operations are quantum gates that act on qubits. Because qubits can be in many states simultaneously, the computer explores many calculation paths **at once**. |\\n| Speed is limited by how many bits you can process and how fast you can flip them. | Speed can sky‑rocket for certain problems because of *parallelism* and *entanglement* (qubits become linked so that the state of one instantly influences the others). |\\n\\n---\\n\\n### The key ideas, broken down\\n\\n1. **Superposition**  \\n   *Think of a spinning coin.* While it’s spinning, it’s both heads and tails.  \\n   A qubit in superposition is like that spinning coin—until you look at it, it’s in a blend of 0 and 1.  \\n   This lets a quantum computer hold many possibilities in one go.\\n\\n2. **Entanglement**  \\n   Imagine two coins that are magically linked: if you flip one, the other instantly knows whether it’s heads or tails, no matter how far apart.  \\n   Entangled qubits share information instantly, which lets quantum algorithms coordinate complex calculations more efficiently.\\n\\n3. **Interference**  \\n   When many possibilities overlap, you can make the “right” answers add up (constructive interference) and the wrong ones cancel out (destructive interference).  \\n   Quantum algorithms are designed so that the correct solution ends up with a high probability when you measure the qubits.\\n\\n4. **Measurement (reading the answer)**  \\n   When you finally look at a qubit, it “collapses” to either 0 or 1.  \\n   That’s why quantum algorithms are probabilistic: you run the algorithm many times and take the most common outcome.\\n\\n---\\n\\n### What it can do\\n\\n- **Factoring large numbers** – Shor’s algorithm can break RSA encryption much faster than the'}]\n",
      "\n",
      "=== Demonstration: Truncation by Max Characters (500 chars total) ===\n",
      "User: Hello, what's the weather like today?\n",
      "Assistant: I’m sorry, but I don’t have real‑time data, so I can’t tell you the current weather.  \n",
      "For the most accurate and up‑to‑date forecast, you might want to check:\n",
      "\n",
      "- A trusted weather website (e.g., Weather.com, AccuWeather, or the National Weather Service)\n",
      "- Your phone’s built‑in weather app\n",
      "- A quick Google search for “weather in [your city]”\n",
      "\n",
      "Those sources will give you the latest temperature, precipitation chances, wind, and any alerts for your area. If you need help interpreting a forecast or choosing what to wear, feel free to ask!\n",
      "\n",
      "User: Tell me a joke.\n",
      "Assistant: Why don’t skeletons fight each other?\n",
      "\n",
      "They don’t have the guts. 😄\n",
      "\n",
      "User: What's the capital of France?\n",
      "Assistant: The capital of France is **Paris**.\n",
      "\n",
      "User: Explain quantum computing simply.\n",
      "Assistant: **Quantum computing in plain English**\n",
      "\n",
      "| **What it is** | **How it works (in a nutshell)** | **Why it matters** |\n",
      "|----------------|---------------------------------|---------------------|\n",
      "| A new kind of computer that uses the rules of quantum physics instead of the “0‑or‑1” logic of today’s machines. | 1. **Qubits** – the basic unit. A qubit can be 0, 1, or *both at the same time* (superposition).  <br>2. **Superposition** lets one qubit represent many possibilities at once.  <br>3. **Entanglement** links qubits so that the state of one instantly affects the other, no matter how far apart they are.  <br>4. **Quantum gates** (the “AND/OR” of quantum circuits) manipulate qubits in ways that exploit superposition and entanglement.  <br>5. **Measurement** collapses the qubits to a definite 0 or 1, giving the answer. | Because it can process a huge number of possibilities in parallel, it can solve certain problems—like factoring large numbers or simulating molecules—much faster than any classical computer. |\n",
      "\n",
      "---\n",
      "\n",
      "### 1. Qubits vs. Bits\n",
      "\n",
      "- **Classical bit**: 0 **or** 1. Think of a light switch that’s either off or on.  \n",
      "- **Quantum bit (qubit)**: 0 **and** 1 at once. Think of a spinning coin that, while spinning, is both heads and tails until you look at it.\n",
      "\n",
      "### 2. Superposition\n",
      "\n",
      "- A single qubit can represent both 0 and 1 simultaneously.  \n",
      "- If you have *n* qubits, they can represent up to \\(2^n\\) different states all at once.  \n",
      "  - 3 qubits → 8 possibilities (000, 001, …, 111) in parallel.\n",
      "\n",
      "### 3. Entanglement\n",
      "\n",
      "- When qubits become entangled, the state of one instantly tells you about the state of the other, even if they’re far apart.  \n",
      "- This correlation lets quantum computers coordinate\n",
      "\n",
      "Final History (truncated by chars): [{'role': 'assistant', 'content': '**Quantum computing in plain English**\\n\\n| **What it is** | **How it works (in a nutshell)** | **Why it matters** |\\n|----------------|---------------------------------|---------------------|\\n| A new kind of computer that uses the rules of quantum physics instead of the “0‑or‑1” logic of today’s machines. | 1. **Qubits** – the basic unit. A qubit can be 0, 1, or *both at the same time* (superposition).  <br>2. **Superposition** lets one qubit represent many possibilities at once.  <br>3. **Entanglement** links qubits so that the state of one instantly affects the other, no matter how far apart they are.  <br>4. **Quantum gates** (the “AND/OR” of quantum circuits) manipulate qubits in ways that exploit superposition and entanglement.  <br>5. **Measurement** collapses the qubits to a definite 0 or 1, giving the answer. | Because it can process a huge number of possibilities in parallel, it can solve certain problems—like factoring large numbers or simulating molecules—much faster than any classical computer. |\\n\\n---\\n\\n### 1. Qubits vs. Bits\\n\\n- **Classical bit**: 0 **or** 1. Think of a light switch that’s either off or on.  \\n- **Quantum bit (qubit)**: 0 **and** 1 at once. Think of a spinning coin that, while spinning, is both heads and tails until you look at it.\\n\\n### 2. Superposition\\n\\n- A single qubit can represent both 0 and 1 simultaneously.  \\n- If you have *n* qubits, they can represent up to \\\\(2^n\\\\) different states all at once.  \\n  - 3 qubits → 8 possibilities (000, 001, …, 111) in parallel.\\n\\n### 3. Entanglement\\n\\n- When qubits become entangled, the state of one instantly tells you about the state of the other, even if they’re far apart.  \\n- This correlation lets quantum computers coordinate'}]\n",
      "\n",
      "=== Demonstration: Truncation by Max Words (100 words total) ===\n",
      "User: Hello, what's the weather like today?\n",
      "Assistant: I’m not able to pull up real‑time data, so I can’t tell you the exact weather for today. If you let me know which city or region you’re interested in, I can give you a general idea of the typical weather pattern for this time of year, or point you to a reliable source where you can check the current forecast.\n",
      "\n",
      "User: Tell me a joke.\n",
      "Assistant: Why don’t skeletons fight each other?\n",
      "\n",
      "They don’t have the guts. 😄\n",
      "\n",
      "User: What's the capital of France?\n",
      "Assistant: The capital of France is **Paris**.\n",
      "\n",
      "User: Explain quantum computing simply.\n",
      "Assistant: **Quantum computing in plain words**\n",
      "\n",
      "| Classical computer | Quantum computer |\n",
      "|---------------------|-------------------|\n",
      "| Uses bits: 0 or 1 | Uses qubits: can be 0, 1, or *both at once* |\n",
      "| Stores information in a single state | Stores information in a *probability wave* |\n",
      "| Processes one instruction at a time | Can process many possibilities *simultaneously* |\n",
      "\n",
      "---\n",
      "\n",
      "### 1. The “qubit” – the quantum bit\n",
      "- **Like a coin that can be heads, tails, or both**:  \n",
      "  A qubit can be in state |0⟩, state |1⟩, or a *superposition* of both.  \n",
      "  This means a single qubit can represent many combinations of 0s and 1s at once.\n",
      "\n",
      "### 2. Superposition\n",
      "- Think of a spinning coin: while spinning, it’s “both heads and tails” until you look.  \n",
      "- In a quantum computer, superposition lets one qubit explore many possibilities in parallel.\n",
      "\n",
      "### 3. Entanglement\n",
      "- When two qubits become entangled, the state of one instantly influences the state of the other, no matter how far apart.  \n",
      "- This correlation allows quantum computers to coordinate many qubits in ways classical bits can’t.\n",
      "\n",
      "### 4. Quantum gates (operations)\n",
      "- Just like logic gates (AND, OR) in classical circuits, quantum gates manipulate qubits.  \n",
      "- Gates rotate or entangle qubits, changing their probability amplitudes.  \n",
      "- Because qubits can be in superpositions, a single gate can transform many states at once.\n",
      "\n",
      "### 5. Measurement\n",
      "- To read the result, you “measure” the qubit.  \n",
      "- Measurement collapses the superposition to a single outcome (0 or 1), but the way the probabilities were set up gives you the answer you want.\n",
      "\n",
      "### 6. Why it matters\n",
      "- **Parallelism**: A quantum computer with *n* qubits can, in principle, represent 2ⁿ different states at once.  \n",
      "- **Speed‑ups for special\n",
      "\n",
      "Final History (truncated by words): [{'role': 'assistant', 'content': '**Quantum computing in plain words**\\n\\n| Classical computer | Quantum computer |\\n|---------------------|-------------------|\\n| Uses bits: 0\\u202for\\u202f1 | Uses qubits: can be 0, 1, or *both at once* |\\n| Stores information in a single state | Stores information in a *probability wave* |\\n| Processes one instruction at a time | Can process many possibilities *simultaneously* |\\n\\n---\\n\\n### 1. The “qubit” – the quantum bit\\n- **Like a coin that can be heads, tails, or both**:  \\n  A qubit can be in state |0⟩, state |1⟩, or a *superposition* of both.  \\n  This means a single qubit can represent many combinations of 0s and 1s at once.\\n\\n### 2. Superposition\\n- Think of a spinning coin: while spinning, it’s “both heads and tails” until you look.  \\n- In a quantum computer, superposition lets one qubit explore many possibilities in parallel.\\n\\n### 3. Entanglement\\n- When two qubits become entangled, the state of one instantly influences the state of the other, no matter how far apart.  \\n- This correlation allows quantum computers to coordinate many qubits in ways classical bits can’t.\\n\\n### 4. Quantum gates (operations)\\n- Just like logic gates (AND, OR) in classical circuits, quantum gates manipulate qubits.  \\n- Gates rotate or entangle qubits, changing their probability amplitudes.  \\n- Because qubits can be in superpositions, a single gate can transform many states at once.\\n\\n### 5. Measurement\\n- To read the result, you “measure” the qubit.  \\n- Measurement collapses the superposition to a single outcome (0 or 1), but the way the probabilities were set up gives you the answer you want.\\n\\n### 6. Why it matters\\n- **Parallelism**: A quantum computer with *n* qubits can, in principle, represent 2ⁿ different states at once.  \\n- **Speed‑ups for special'}]\n",
      "\n",
      "=== Demonstration: Periodic Summarization Every 3rd Run ===\n",
      "Interaction 1 - User: Hello, what's the weather like today?\n",
      "Assistant: I’m sorry, but I don’t have access to real‑time weather data. For the most accurate forecast, check a trusted local weather app or website (e.g., the National Weather Service, Weather.com, AccuWeather, or your phone’s weather widget). If you let me know your city or region, I can give you a general idea of what the climate is usually like there right now.\n",
      "\n",
      "History after interaction 1: [{'role': 'user', 'content': \"Hello, what's the weather like today?\"}, {'role': 'assistant', 'content': 'I’m sorry, but I don’t have access to real‑time weather data.\\u202fFor the most accurate forecast, check a trusted local weather app or website (e.g., the National Weather Service, Weather.com, AccuWeather, or your phone’s weather widget). If you let me know your city or region, I can give you a general idea of what the climate is usually like there right now.'}]\n",
      "\n",
      "Interaction 2 - User: Tell me a joke.\n",
      "Assistant: Why don’t scientists trust atoms?\n",
      "\n",
      "Because they make up everything! 😄\n",
      "\n",
      "History after interaction 2: [{'role': 'user', 'content': \"Hello, what's the weather like today?\"}, {'role': 'assistant', 'content': 'I’m sorry, but I don’t have access to real‑time weather data.\\u202fFor the most accurate forecast, check a trusted local weather app or website (e.g., the National Weather Service, Weather.com, AccuWeather, or your phone’s weather widget). If you let me know your city or region, I can give you a general idea of what the climate is usually like there right now.'}, {'role': 'user', 'content': 'Tell me a joke.'}, {'role': 'assistant', 'content': 'Why don’t scientists trust atoms?\\n\\nBecause they make up everything! 😄'}]\n",
      "\n",
      "\n",
      "--- Periodic Summarization (after 3 interactions) ---\n",
      "Summary: The user inquires about today’s weather, to which the assistant explains it lacks real‑time data and recommends checking a local weather app, while offering general climate info if a location is provided. The user then requests a joke, and the assistant delivers a light‑hearted atom pun. Finally, the user asks for the capital of France, and the assistant correctly answers “Paris.”\n",
      "\n",
      "Interaction 3 - User: What's the capital of France?\n",
      "Assistant: The capital of France is **Paris**.\n",
      "\n",
      "History after interaction 3: [{'role': 'system', 'content': 'Summary of previous conversation: The user inquires about today’s weather, to which the assistant explains it lacks real‑time data and recommends checking a local weather app, while offering general climate info if a location is provided. The user then requests a joke, and the assistant delivers a light‑hearted atom pun. Finally, the user asks for the capital of France, and the assistant correctly answers “Paris.”'}]\n",
      "\n",
      "Interaction 4 - User: Explain quantum computing simply.\n",
      "Assistant: **Quantum computing in plain English**\n",
      "\n",
      "Think of a computer as a super‑smart calculator that can solve many problems by trying many possibilities at once.  \n",
      "A classical computer uses bits that are either **0** or **1**—like a light switch that is either off or on.\n",
      "\n",
      "A quantum computer uses **qubits** that can be **0, 1, or both at the same time** (thanks to a property called *superposition*).  \n",
      "Because a single qubit can represent two states simultaneously, a handful of qubits can represent thousands or millions of combinations all at once.\n",
      "\n",
      "Here’s a step‑by‑step picture:\n",
      "\n",
      "| Step | What happens | Why it matters |\n",
      "|------|--------------|----------------|\n",
      "| 1. **Prepare qubits** | Qubits are put into a superposition (both 0 and 1). | Gives the computer a huge “parallel” workspace. |\n",
      "| 2. **Apply quantum gates** | Operations that entangle qubits—linking their states together. | Creates correlations that classical bits can’t mimic. |\n",
      "| 3. **Measure** | Read the qubits, collapsing them into a single outcome (0 or 1 for each). | The final answer appears, but the way we got there used quantum magic. |\n",
      "\n",
      "Because of superposition and *entanglement* (qubits becoming interdependent), a quantum computer can evaluate many possibilities simultaneously and then “zoom in” on the correct answer much faster than a classical computer for certain tasks.\n",
      "\n",
      "**What problems can it solve faster?**\n",
      "\n",
      "- **Factoring large numbers** (important for cryptography).  \n",
      "- **Simulating quantum systems** (chemistry, materials science).  \n",
      "- **Optimizing complex systems** (logistics, finance).  \n",
      "\n",
      "**Bottom line:** A quantum computer isn’t just a faster calculator; it’s a different kind of calculator that can explore a gigantic space of possibilities all at once, making some problems that would take ages for a classical machine finish in a fraction of the time.\n",
      "\n",
      "History after interaction 4: [{'role': 'system', 'content': 'Summary of previous conversation: The user inquires about today’s weather, to which the assistant explains it lacks real‑time data and recommends checking a local weather app, while offering general climate info if a location is provided. The user then requests a joke, and the assistant delivers a light‑hearted atom pun. Finally, the user asks for the capital of France, and the assistant correctly answers “Paris.”'}, {'role': 'user', 'content': 'Explain quantum computing simply.'}, {'role': 'assistant', 'content': '**Quantum computing in plain English**\\n\\nThink of a computer as a super‑smart calculator that can solve many problems by trying many possibilities at once.  \\nA classical computer uses bits that are either **0** or **1**—like a light switch that is either off or on.\\n\\nA quantum computer uses **qubits** that can be **0, 1, or both at the same time** (thanks to a property called *superposition*).  \\nBecause a single qubit can represent two states simultaneously, a handful of qubits can represent thousands or millions of combinations all at once.\\n\\nHere’s a step‑by‑step picture:\\n\\n| Step | What happens | Why it matters |\\n|------|--------------|----------------|\\n| 1. **Prepare qubits** | Qubits are put into a superposition (both 0 and 1). | Gives the computer a huge “parallel” workspace. |\\n| 2. **Apply quantum gates** | Operations that entangle qubits—linking their states together. | Creates correlations that classical bits can’t mimic. |\\n| 3. **Measure** | Read the qubits, collapsing them into a single outcome (0 or 1 for each). | The final answer appears, but the way we got there used quantum magic. |\\n\\nBecause of superposition and *entanglement* (qubits becoming interdependent), a quantum computer can evaluate many possibilities simultaneously and then “zoom in” on the correct answer much faster than a classical computer for certain tasks.\\n\\n**What problems can it solve faster?**\\n\\n- **Factoring large numbers** (important for cryptography).  \\n- **Simulating quantum systems** (chemistry, materials science).  \\n- **Optimizing complex systems** (logistics, finance).  \\n\\n**Bottom line:** A quantum computer isn’t just a faster calculator; it’s a different kind of calculator that can explore a gigantic space of possibilities all at once, making some problems that would take ages for a classical machine finish in a fraction of the time.'}]\n",
      "\n"
     ]
    }
   ],
   "source": [
    "import openai\n",
    "import os\n",
    "\n",
    "# Set up Groq API client (OpenAI-compatible)\n",
    "os.environ[\"GROQ_API_KEY\"] = \"\"  \n",
    "client = openai.OpenAI(\n",
    "    base_url=\"https://api.groq.com/openai/v1\",\n",
    "    api_key=os.environ.get(\"GROQ_API_KEY\")\n",
    ")\n",
    "\n",
    "# Model to use (free tier available on Groq, fast and capable)\n",
    "MODEL = \"openai/gpt-oss-20b\"\n",
    "\n",
    "# Function to get chat completion from Groq API\n",
    "def get_completion(messages, model=MODEL):\n",
    "    response = client.chat.completions.create(\n",
    "        model=model,\n",
    "        messages=messages,\n",
    "        temperature=0.7,\n",
    "        max_tokens=500\n",
    "    )\n",
    "    return response.choices[0].message.content\n",
    "\n",
    "# Function to summarize conversation history\n",
    "def summarize_history(history):\n",
    "    # Format history for summarization prompt\n",
    "    formatted_history = \"\\n\".join([f\"{msg['role'].capitalize()}: {msg['content']}\" for msg in history])\n",
    "    prompt = [\n",
    "        {\"role\": \"system\", \"content\": \"You are a helpful assistant that summarizes conversations concisely, capturing key points, decisions, and context without losing important details.\"},\n",
    "        {\"role\": \"user\", \"content\": f\"Summarize the following conversation in a concise paragraph:\\n\\n{formatted_history}\"}\n",
    "    ]\n",
    "    summary = get_completion(prompt)\n",
    "    return summary\n",
    "\n",
    "# Class for managing conversation with truncation and periodic summarization\n",
    "class ConversationManager:\n",
    "    def __init__(self, max_turns=None, max_chars=None, max_words=None, summarize_every_k=None):\n",
    "        \"\"\"\n",
    "        Initialize conversation manager.\n",
    "        - max_turns: Limit to last n messages (turns).\n",
    "        - max_chars: Max total characters in history.\n",
    "        - max_words: Max total words in history.\n",
    "        - summarize_every_k: Summarize and replace history every k-th interaction.\n",
    "        \"\"\"\n",
    "        self.history = []\n",
    "        self.max_turns = max_turns\n",
    "        self.max_chars = max_chars\n",
    "        self.max_words = max_words\n",
    "        self.summarize_every_k = summarize_every_k\n",
    "        self.interaction_count = 0\n",
    "\n",
    "    def truncate_history(self):\n",
    "        \"\"\"Apply truncation based on settings.\"\"\"\n",
    "        if self.max_turns:\n",
    "            self.history = self.history[-self.max_turns:]\n",
    "\n",
    "        # Concatenate contents for length checks\n",
    "        full_content = \" \".join([msg['content'] for msg in self.history])\n",
    "\n",
    "        if self.max_chars:\n",
    "            while len(full_content) > self.max_chars and len(self.history) > 1:\n",
    "                removed = self.history.pop(0)\n",
    "                full_content = \" \".join([msg['content'] for msg in self.history])\n",
    "\n",
    "        if self.max_words:\n",
    "            while len(full_content.split()) > self.max_words and len(self.history) > 1:\n",
    "                removed = self.history.pop(0)\n",
    "                full_content = \" \".join([msg['content'] for msg in self.history])\n",
    "\n",
    "    def check_periodic_summarization(self):\n",
    "        \"\"\"Summarize and replace history if at k-th interaction.\"\"\"\n",
    "        if self.summarize_every_k and self.interaction_count % self.summarize_every_k == 0 and self.interaction_count > 0:\n",
    "            if len(self.history) > 1:  # Only summarize if there's history\n",
    "                summary = summarize_history(self.history)\n",
    "                print(f\"\\n--- Periodic Summarization (after {self.interaction_count} interactions) ---\\nSummary: {summary}\\n\")\n",
    "                self.history = [{\"role\": \"system\", \"content\": f\"Summary of previous conversation: {summary}\"}]\n",
    "\n",
    "    def chat(self, user_input, system_prompt=\"You are a helpful assistant.\"):\n",
    "        \"\"\"Handle a user message, get response, update history, apply truncation and summarization.\"\"\"\n",
    "        self.interaction_count += 1\n",
    "\n",
    "        # Build messages: system prompt + history + user input\n",
    "        messages = [{\"role\": \"system\", \"content\": system_prompt}] + self.history + [{\"role\": \"user\", \"content\": user_input}]\n",
    "\n",
    "        # Get assistant response\n",
    "        response = get_completion(messages)\n",
    "\n",
    "        # Append user and assistant to history\n",
    "        self.history.append({\"role\": \"user\", \"content\": user_input})\n",
    "        self.history.append({\"role\": \"assistant\", \"content\": response})\n",
    "\n",
    "        # Apply truncation\n",
    "        self.truncate_history()\n",
    "\n",
    "        # Check for periodic summarization\n",
    "        self.check_periodic_summarization()\n",
    "\n",
    "        return response\n",
    "\n",
    "# Demonstration\n",
    "print(\"=== Demonstration: Basic Conversation with No Truncation/Summarization ===\")\n",
    "manager = ConversationManager()\n",
    "samples = [\n",
    "    \"Hello, what's the weather like today?\",\n",
    "    \"Tell me a joke.\",\n",
    "    \"What's the capital of France?\",\n",
    "    \"Explain quantum computing simply.\"\n",
    "]\n",
    "for sample in samples:\n",
    "    response = manager.chat(sample)\n",
    "    print(f\"User: {sample}\\nAssistant: {response}\\n\")\n",
    "print(f\"Final History: {manager.history}\\n\")\n",
    "\n",
    "print(\"=== Demonstration: Truncation by Max Turns (last 4 messages) ===\")\n",
    "manager_turns = ConversationManager(max_turns=4)  # Last 2 turns (4 messages)\n",
    "for sample in samples:\n",
    "    response = manager_turns.chat(sample)\n",
    "    print(f\"User: {sample}\\nAssistant: {response}\\n\")\n",
    "print(f\"Final History (truncated to last 4 messages): {manager_turns.history}\\n\")\n",
    "\n",
    "print(\"=== Demonstration: Truncation by Max Characters (500 chars total) ===\")\n",
    "manager_chars = ConversationManager(max_chars=500)\n",
    "for sample in samples:\n",
    "    response = manager_chars.chat(sample)\n",
    "    print(f\"User: {sample}\\nAssistant: {response}\\n\")\n",
    "print(f\"Final History (truncated by chars): {manager_chars.history}\\n\")\n",
    "\n",
    "print(\"=== Demonstration: Truncation by Max Words (100 words total) ===\")\n",
    "manager_words = ConversationManager(max_words=100)\n",
    "for sample in samples:\n",
    "    response = manager_words.chat(sample)\n",
    "    print(f\"User: {sample}\\nAssistant: {response}\\n\")\n",
    "print(f\"Final History (truncated by words): {manager_words.history}\\n\")\n",
    "\n",
    "print(\"=== Demonstration: Periodic Summarization Every 3rd Run ===\")\n",
    "manager_periodic = ConversationManager(summarize_every_k=3)\n",
    "for i, sample in enumerate(samples, 1):\n",
    "    response = manager_periodic.chat(sample)\n",
    "    print(f\"Interaction {i} - User: {sample}\\nAssistant: {response}\\n\")\n",
    "    print(f\"History after interaction {i}: {manager_periodic.history}\\n\")"
   ]
  },
  {
   "cell_type": "markdown",
   "id": "93700606",
   "metadata": {},
   "source": [
    "**Base task 2**"
   ]
  },
  {
   "cell_type": "code",
   "execution_count": null,
   "id": "af60aa01",
   "metadata": {},
   "outputs": [
    {
     "name": "stdout",
     "output_type": "stream",
     "text": [
      "=== Demonstration: JSON Schema PII Extraction from Sample Chats ===\n",
      "\n",
      "--- Sample Chat 1 ---\n",
      "Chat Transcript:\n",
      "User: Hi, I'm John Doe, emailing from john.doe@example.com. My phone is +1-555-123-4567. I live in New York, NY, and I'm 28 years old.\n",
      "\n",
      "Extracted JSON:\n",
      "{\n",
      "  \"age\": 28,\n",
      "  \"email\": \"john.doe@example.com\",\n",
      "  \"location\": \"New York, NY\",\n",
      "  \"name\": \"John Doe\",\n",
      "  \"phone\": \"+1-555-123-4567\"\n",
      "}\n",
      "\n",
      "Validation Results:\n",
      "{\n",
      "  \"valid\": true,\n",
      "  \"details\": {}\n",
      "}\n",
      "\n",
      "✅ Valid extraction against schema.\n",
      "\n",
      "--- Sample Chat 2 ---\n",
      "Chat Transcript:\n",
      "Assistant: Thanks for reaching out. User: Sure, my name is Jane Smith, email jane@work.com, phone 123-456-7890, and location is London, UK. Age not mentioned.\n",
      "\n",
      "Extracted JSON:\n",
      "{\n",
      "  \"error\": \"API error: Error code: 400 - {'error': {'message': 'Tool call validation failed: tool call validation failed: parameters for tool extract_pii did not match schema: errors: [`/age`: expected integer, but got null]', 'type': 'invalid_request_error', 'code': 'tool_use_failed', 'failed_generation': '{\\\"name\\\": \\\"extract_pii\\\", \\\"arguments\\\": {\\\"age\\\":null,\\\"email\\\":\\\"jane@work.com\\\",\\\"location\\\":\\\"London, UK\\\",\\\"name\\\":\\\"Jane Smith\\\",\\\"phone\\\":\\\"123-456-7890\\\"}}'}}\"\n",
      "}\n",
      "\n",
      "Validation Results:\n",
      "{\n",
      "  \"valid\": false,\n",
      "  \"details\": {\n",
      "    \"name\": \"Missing required key\",\n",
      "    \"email\": \"Missing required key\",\n",
      "    \"phone\": \"Missing required key\",\n",
      "    \"location\": \"Missing required key\",\n",
      "    \"age\": \"Missing required key\",\n",
      "    \"extra_properties\": [\n",
      "      \"error\"\n",
      "    ]\n",
      "  }\n",
      "}\n",
      "\n",
      "❌ Invalid: See details above.\n",
      "\n",
      "--- Sample Chat 3 ---\n",
      "Chat Transcript:\n",
      "User: Hello, this is Alice Johnson from Seattle, WA. No email or phone shared, and I won't tell my age.\n",
      "\n",
      "Extracted JSON:\n",
      "{\n",
      "  \"error\": \"API error: Error code: 400 - {'error': {'message': 'Tool call validation failed: tool call validation failed: parameters for tool extract_pii did not match schema: errors: [`/age`: expected integer, but got null, `/email`: expected string, but got null, `/phone`: expected string, but got null]', 'type': 'invalid_request_error', 'code': 'tool_use_failed', 'failed_generation': '{\\\"name\\\": \\\"extract_pii\\\", \\\"arguments\\\": {\\\"age\\\":null,\\\"email\\\":null,\\\"location\\\":\\\"Seattle, WA\\\",\\\"name\\\":\\\"Alice Johnson\\\",\\\"phone\\\":null}}'}}\"\n",
      "}\n",
      "\n",
      "Validation Results:\n",
      "{\n",
      "  \"valid\": false,\n",
      "  \"details\": {\n",
      "    \"name\": \"Missing required key\",\n",
      "    \"email\": \"Missing required key\",\n",
      "    \"phone\": \"Missing required key\",\n",
      "    \"location\": \"Missing required key\",\n",
      "    \"age\": \"Missing required key\",\n",
      "    \"extra_properties\": [\n",
      "      \"error\"\n",
      "    ]\n",
      "  }\n",
      "}\n",
      "\n",
      "❌ Invalid: See details above.\n"
     ]
    }
   ],
   "source": [
    "# Task 2: JSON Schema Classification & Information Extraction\n",
    "import json\n",
    "import re\n",
    "\n",
    "# Define JSON schema (updated: email, phone, age optional to allow null)\n",
    "json_schema = {\n",
    "    \"name\": \"pii_extraction\",\n",
    "    \"schema\": {\n",
    "        \"type\": \"object\",\n",
    "        \"properties\": {\n",
    "            \"name\": {\n",
    "                \"type\": \"string\",\n",
    "                \"description\": \"Full name of the person (e.g., 'John Doe'). Required.\"\n",
    "            },\n",
    "            \"email\": {\n",
    "                \"type\": [\"string\", \"null\"],\n",
    "                \"description\": \"Email address (e.g., 'john@example.com'). Null if not present.\",\n",
    "                \"pattern\": \"^[a-zA-Z0-9._%+-]+@[a-zA-Z0-9.-]+\\\\.[a-zA-Z]{2,}$\"\n",
    "            },\n",
    "            \"phone\": {\n",
    "                \"type\": [\"string\", \"null\"],\n",
    "                \"description\": \"Phone number (e.g., '+1-123-456-7890'). Null if not present.\",\n",
    "                \"pattern\": \"^[+]?[0-9\\\\s\\\\-\\\\(\\\\)]{10,}$\"\n",
    "            },\n",
    "            \"location\": {\n",
    "                \"type\": \"string\",\n",
    "                \"description\": \"Location or city (e.g., 'New York, NY'). Required.\"\n",
    "            },\n",
    "            \"age\": {\n",
    "                \"type\": [\"integer\", \"null\"],\n",
    "                \"description\": \"Age as a number (e.g., 30). Null if not stated.\"\n",
    "            }\n",
    "        },\n",
    "        \"required\": [\"name\", \"location\"],  # Only name and location required\n",
    "        \"additionalProperties\": False\n",
    "    }\n",
    "}\n",
    "\n",
    "# Define tool for function calling\n",
    "tools = [\n",
    "    {\n",
    "        \"type\": \"function\",\n",
    "        \"function\": {\n",
    "            \"name\": \"extract_pii\",\n",
    "            \"description\": \"Extract PII details from a chat transcript.\",\n",
    "            \"parameters\": json_schema[\"schema\"]\n",
    "        }\n",
    "    }\n",
    "]\n",
    "\n",
    "# Function to extract PII\n",
    "def extract_pii_from_chat(chat_transcript, model=MODEL):\n",
    "    messages = [\n",
    "        {\"role\": \"system\", \"content\": \"Extract structured PII from chat transcripts. Only extract explicitly mentioned details; use null for missing email, phone, or age.\"},\n",
    "        {\"role\": \"user\", \"content\": f\"Extract PII from this chat: {chat_transcript}\"}\n",
    "    ]\n",
    "    \n",
    "    try:\n",
    "        response = client.chat.completions.create(\n",
    "            model=model,\n",
    "            messages=messages,\n",
    "            tools=tools,\n",
    "            tool_choice=\"auto\",\n",
    "            temperature=0.1,\n",
    "            max_tokens=500\n",
    "        )\n",
    "        \n",
    "        if response.choices[0].message.tool_calls:\n",
    "            tool_call = response.choices[0].message.tool_calls[0]\n",
    "            extracted_data = json.loads(tool_call.function.arguments)\n",
    "            return extracted_data\n",
    "        else:\n",
    "            return {\"error\": \"No tool call triggered\"}\n",
    "    except Exception as e:\n",
    "        return {\"error\": f\"API error: {str(e)}\"}\n",
    "\n",
    "# Validation function\n",
    "def validate_extraction(extracted_data, schema=json_schema[\"schema\"]):\n",
    "    validation_results = {\n",
    "        \"valid\": True,\n",
    "        \"details\": {}\n",
    "    }\n",
    "    \n",
    "    required_keys = schema[\"required\"]\n",
    "    for key in required_keys:\n",
    "        if key not in extracted_data:\n",
    "            validation_results[\"valid\"] = False\n",
    "            validation_results[\"details\"][key] = \"Missing required key\"\n",
    "            continue\n",
    "        \n",
    "        value = extracted_data[key]\n",
    "        expected_types = schema[\"properties\"][key][\"type\"]\n",
    "        expected_types = expected_types if isinstance(expected_types, list) else [expected_types]\n",
    "        \n",
    "        if value is not None and not any(isinstance(value, type_map[t]) for t in expected_types):\n",
    "            validation_results[\"valid\"] = False\n",
    "            validation_results[\"details\"][key] = f\"Expected {expected_types}, got {type(value)}\"\n",
    "        \n",
    "        if value is not None and key in [\"email\", \"phone\"] and \"pattern\" in schema[\"properties\"][key]:\n",
    "            pattern = schema[\"properties\"][key][\"pattern\"]\n",
    "            if not re.match(pattern, str(value)):\n",
    "                validation_results[\"valid\"] = False\n",
    "                validation_results[\"details\"][key] = \"Does not match expected pattern\"\n",
    "    \n",
    "    # Check optional fields (email, phone, age)\n",
    "    for key in [\"email\", \"phone\", \"age\"]:\n",
    "        if key in extracted_data and extracted_data[key] is not None:\n",
    "            expected_types = schema[\"properties\"][key][\"type\"]\n",
    "            expected_types = expected_types if isinstance(expected_types, list) else [expected_types]\n",
    "            if not any(isinstance(extracted_data[key], type_map[t]) for t in expected_types):\n",
    "                validation_results[\"valid\"] = False\n",
    "                validation_results[\"details\"][key] = f\"Expected {expected_types}, got {type(extracted_data[key])}\"\n",
    "    \n",
    "    # Check for extra properties\n",
    "    if set(extracted_data.keys()) != set(schema[\"properties\"].keys()):\n",
    "        extra = set(extracted_data.keys()) - set(schema[\"properties\"].keys())\n",
    "        validation_results[\"valid\"] = False\n",
    "        validation_results[\"details\"][\"extra_properties\"] = list(extra)\n",
    "    \n",
    "    return validation_results\n",
    "\n",
    "# Type mapping for validation\n",
    "type_map = {\n",
    "    \"string\": str,\n",
    "    \"integer\": int,\n",
    "    \"null\": type(None)\n",
    "}\n",
    "\n",
    "# Demonstration: 3 sample chats\n",
    "sample_chats = [\n",
    "    \"User: Hi, I'm John Doe, emailing from john.doe@example.com. My phone is +1-555-123-4567. I live in New York, NY, and I'm 28 years old.\",\n",
    "    \"Assistant: Thanks for reaching out. User: Sure, my name is Jane Smith, email jane@work.com, phone 123-456-7890, and location is London, UK. Age not mentioned.\",\n",
    "    \"User: Hello, this is Alice Johnson from Seattle, WA. No email or phone shared, and I won't tell my age.\"\n",
    "]\n",
    "\n",
    "print(\"=== Demonstration: JSON Schema PII Extraction from Sample Chats ===\")\n",
    "for i, chat in enumerate(sample_chats, 1):\n",
    "    print(f\"\\n--- Sample Chat {i} ---\")\n",
    "    print(f\"Chat Transcript:\\n{chat}\\n\")\n",
    "    \n",
    "    extracted = extract_pii_from_chat(chat)\n",
    "    print(f\"Extracted JSON:\\n{json.dumps(extracted, indent=2)}\\n\")\n",
    "    \n",
    "    validation = validate_extraction(extracted)\n",
    "    print(f\"Validation Results:\\n{json.dumps(validation, indent=2)}\\n\")\n",
    "    \n",
    "    if validation[\"valid\"]:\n",
    "        print(\"✅ Valid extraction against schema.\")\n",
    "    else:\n",
    "        print(\"❌ Invalid: See details above.\")"
   ]
  },
  {
   "cell_type": "markdown",
   "id": "23441877",
   "metadata": {},
   "source": [
    "**Task 1 final with Markdown handelling**"
   ]
  },
  {
   "cell_type": "code",
   "execution_count": null,
   "id": "8677b079",
   "metadata": {},
   "outputs": [
    {
     "name": "stdout",
     "output_type": "stream",
     "text": [
      "=== Demo 1: Basic Conversation (No Truncation/Semantic) ===\n",
      "\n",
      "User: Hello, what's the weather like today?\n"
     ]
    },
    {
     "data": {
      "text/markdown": [
       "I’m sorry, but I don’t have real‑time access to weather data.  \n",
       "To get the most accurate forecast for today, you could:\n",
       "\n",
       "| Option | How to use it |\n",
       "|--------|---------------|\n",
       "| **Weather apps** (e.g., Weather.com, AccuWeather, Weather Underground) | Open the app or website, enter your location, and view the hourly forecast. |\n",
       "| **Smartphone assistants** (Siri, Google Assistant, Alexa) | Say “What’s the weather today?” and they’ll read the latest forecast. |\n",
       "| **Local news websites** | Many local stations provide up‑to‑date weather updates on their sites. |\n",
       "| **National weather services** (e.g., NOAA in the U.S., Met Office in the U.K.) | Visit the official site for detailed radar and alerts. |\n",
       "\n",
       "If you let me know your city or ZIP code, I can give you a general idea of the typical weather pattern for this time of year, but for the exact current conditions, it’s best to check one of the sources above."
      ],
      "text/plain": [
       "<IPython.core.display.Markdown object>"
      ]
     },
     "metadata": {},
     "output_type": "display_data"
    },
    {
     "name": "stdout",
     "output_type": "stream",
     "text": [
      "History Length: 2\n",
      "\n",
      "User: Tell me a joke.\n"
     ]
    },
    {
     "data": {
      "text/markdown": [
       "**Why don’t skeletons fight each other?**  \n",
       "\n",
       "They don’t have the guts! 😄"
      ],
      "text/plain": [
       "<IPython.core.display.Markdown object>"
      ]
     },
     "metadata": {},
     "output_type": "display_data"
    },
    {
     "name": "stdout",
     "output_type": "stream",
     "text": [
      "History Length: 4\n",
      "\n",
      "User: What's the capital of France?\n"
     ]
    },
    {
     "data": {
      "text/markdown": [
       "The capital of France is **Paris**."
      ],
      "text/plain": [
       "<IPython.core.display.Markdown object>"
      ]
     },
     "metadata": {},
     "output_type": "display_data"
    },
    {
     "name": "stdout",
     "output_type": "stream",
     "text": [
      "History Length: 6\n",
      "\n",
      "User: Explain quantum computing simply.\n"
     ]
    },
    {
     "data": {
      "text/markdown": [
       "## Quantum Computing – A Simple Overview\n",
       "\n",
       "| **Concept** | **Classical Computer** | **Quantum Computer** |\n",
       "|-------------|------------------------|----------------------|\n",
       "| **Basic unit** | **Bit** – 0 or 1 | **Qubit** – 0, 1, or *both* at once |\n",
       "| **Information storage** | Deterministic | Probabilistic (superposition) |\n",
       "| **Logic operations** | Boolean gates (AND, OR, NOT) | Quantum gates (Hadamard, CNOT, etc.) |\n",
       "| **Parallelism** | One state at a time | Many states simultaneously (exponential) |\n",
       "| **Key advantage** | General‑purpose, fast for many tasks | Special‑purpose: factoring, simulation, optimization |\n",
       "\n",
       "---\n",
       "\n",
       "### 1. The “Bits” of the Quantum World\n",
       "\n",
       "| Feature | Classical Bit | Qubit |\n",
       "|---------|---------------|-------|\n",
       "| **State** | Exactly 0 or 1 | Can be **0** and **1** *simultaneously* (superposition) |\n",
       "| **Notation** | `|0⟩` or `|1⟩` | `α|0⟩ + β|1⟩` (α, β are complex numbers, |α|² + |β|² = 1) |\n",
       "| **Measurement** | Gives the stored value | Collapses to 0 or 1 with probabilities |α|² and |β|² |\n",
       "\n",
       "> **Analogy**:  \n",
       "> Think of a classical bit as a light switch that’s either OFF or ON.  \n",
       "> A qubit is like a spinning coin in the air—until you look, it’s in a mix of heads and tails.\n",
       "\n",
       "---\n",
       "\n",
       "### 2. Superposition & Parallelism\n",
       "\n",
       "- **Superposition** lets a qubit represent *many* possible values at once.\n",
       "- **Quantum parallelism**: An `n`‑qubit system can represent `2ⁿ` states simultaneously.\n",
       "\n",
       "**Example**:  \n",
       "With 3 qubits you can encode all 8 combinations (000, 001, …, 111) at once.  \n",
       "A quantum algorithm can “process” all of them in a single operation.\n",
       "\n",
       "---\n",
       "\n",
       "### 3. Entanglement – The Quantum Glue\n",
       "\n",
       "- When two qubits become **entangled**, the state of one instantly affects the other, no matter the distance.\n",
       "- Entanglement is a resource for quantum algorithms (e.g., teleportation, error correction).\n",
       "\n",
       "> **Think of it like a pair of magic dice**: whatever number one shows, the other shows the complementary number instantly.\n",
       "\n",
       "---\n",
       "\n",
       "### 4. Quantum Gates – The “Logic” of Qubits\n",
       "\n",
       "| Gate | Classical Equivalent | Effect on Qubit |\n",
       "|------|----------------------|-----------------|\n",
       "| **Hadamard (H)** |  | Creates superposition: `|0⟩ → (|0⟩+|1⟩)/√2` |\n",
       "| **Pauli-X (X)** | NOT | Flips `|0⟩ ↔ |1⟩` |\n",
       "| **CNOT** | Controlled‑NOT | Entangles two qubits |\n",
       "| **Phase gates (S, T)** | – | Rotates the qubit’s phase |\n",
       "\n",
       "- Gates are **unitary** (reversible) and preserve probability.\n",
       "\n",
       "---\n",
       "\n",
       "### 5. Quantum Algorithms – What They Solve\n",
       "\n",
       "| Algorithm | Problem | Why Quantum? |\n",
       "|-----------|---------|--------------|\n",
       "| **Shor’s** | Factoring large integers | Exponential speed‑up over best classical methods |\n",
       "| **Grover’s** | Unstructured search | √N speed‑up |\n",
       "| **Quantum simulation** | Molecular/physical systems | Directly models quantum behavior |\n",
       "| **Quantum annealing** | Optimization | Exploits quantum tunneling |\n",
       "\n",
       "---\n",
       "\n",
       "### 6. Practical Challenges\n",
       "\n",
       "| Issue | Description |\n",
       "|-------|-------------|\n",
       "| **Decoherence** | Qubits lose quantum properties due to environment. |\n",
       "| **Error rates** | Quantum operations are noisy; need error correction. |\n",
       "| **Scalability** | Building many high‑quality qubits is hard. |\n",
       "| **Control** | Precise timing and isolation required. |\n",
       "\n",
       "---\n",
       "\n",
       "### 7. Where We Are Now\n",
       "\n",
       "| Platform | Typical Qubit Count | Technology |\n",
       "|----------|--------------------|------------|\n",
       "| **IBM Q Experience** | 5–127 (cloud) | Superconducting |\n",
       "| **Rigetti Forest** | 32 | Superconducting |\n",
       "| **D-Wave** | 2000+ | Quantum annealing |\n",
       "| **Google Sycamore** | 54 (tested) | Superconducting |\n",
       "\n",
       "> **Takeaway**: Quantum computers are still in the *early‑stage* (often called **Noisy Intermediate‑Scale Quantum**, or NISQ) era. They excel at niche problems but aren’t yet general‑purpose replacements for classical machines.\n",
       "\n",
       "---\n",
       "\n",
       "### 8. Quick Summary\n",
       "\n",
       "- **Bits** → 0 or 1, deterministic.  \n",
       "- **Qubits** → 0, 1, or *both* (superposition), probabilistic.  \n",
       "- **Entanglement** → Strong correlations, instant “communication”.  \n",
       "- **Quantum gates** → Reversible operations that manipulate qubits.  \n",
       "- **Algorithms** → Offer exponential or quadratic speed‑ups for specific tasks.  \n",
       "- **Challenges** → Decoherence, errors, scaling.  \n",
       "\n",
       "**Bottom line**: Quantum computing leverages the weirdness of quantum mechanics (superposition & entanglement) to solve certain problems far faster than classical computers—though we’re still learning how to build reliable, large‑scale machines."
      ],
      "text/plain": [
       "<IPython.core.display.Markdown object>"
      ]
     },
     "metadata": {},
     "output_type": "display_data"
    },
    {
     "name": "stdout",
     "output_type": "stream",
     "text": [
      "History Length: 8\n",
      "\n",
      "Final History:\n",
      "User: Hello, what's the weather like today?...\n",
      "Assistant: I’m sorry, but I don’t have real‑time access to we...\n",
      "User: Tell me a joke....\n",
      "Assistant: **Why don’t skeletons fight each other?**  \n",
      "\n",
      "They ...\n",
      "User: What's the capital of France?...\n",
      "Assistant: The capital of France is **Paris**....\n",
      "User: Explain quantum computing simply....\n",
      "Assistant: ## Quantum Computing – A Simple Overview\n",
      "\n",
      "| **Conc...\n",
      "\n",
      "=== Demo 2: Semantic Truncation (Threshold=4, Max Turns=4) ===\n",
      "\n",
      "User: Hello, what's the weather like today?\n"
     ]
    },
    {
     "data": {
      "text/markdown": [
       "I’m sorry, but I don’t have real‑time data.  \n",
       "For the most accurate and up‑to‑date weather information, you can:\n",
       "\n",
       "| Platform | How to check |\n",
       "|----------|--------------|\n",
       "| **Weather websites** (e.g., Weather.com, AccuWeather) | Enter your city or ZIP code |\n",
       "| **Mobile apps** (e.g., Weather Channel, NOAA Weather Radar) | Open the app and allow location access |\n",
       "| **Smart assistants** (Siri, Google Assistant, Alexa) | Ask “What’s the weather today in [your city]?” |\n",
       "| **Local news stations** | Check their website or TV broadcast |\n",
       "\n",
       "If you tell me your city or ZIP code, I can give you a general idea of the typical climate for this time of year, but for the exact current conditions, a quick look at one of the above sources will give you the most reliable information."
      ],
      "text/plain": [
       "<IPython.core.display.Markdown object>"
      ]
     },
     "metadata": {},
     "output_type": "display_data"
    },
    {
     "name": "stdout",
     "output_type": "stream",
     "text": [
      "History Length: 2\n",
      "\n",
      "User: Tell me a joke.\n"
     ]
    },
    {
     "data": {
      "text/markdown": [
       "**Why don’t scientists trust atoms?**  \n",
       "\n",
       "Because they *make up* everything! 😄"
      ],
      "text/plain": [
       "<IPython.core.display.Markdown object>"
      ]
     },
     "metadata": {},
     "output_type": "display_data"
    },
    {
     "name": "stdout",
     "output_type": "stream",
     "text": [
      "History Length: 4\n",
      "\n",
      "User: What's the capital of France?\n"
     ]
    },
    {
     "data": {
      "text/markdown": [
       "The capital of France is **Paris**."
      ],
      "text/plain": [
       "<IPython.core.display.Markdown object>"
      ]
     },
     "metadata": {},
     "output_type": "display_data"
    },
    {
     "name": "stdout",
     "output_type": "stream",
     "text": [
      "History Length: 4\n",
      "\n",
      "User: Explain quantum computing simply.\n"
     ]
    },
    {
     "data": {
      "text/markdown": [
       "## Quantum Computing – A Super‑Simple Overview\n",
       "\n",
       "| Concept | Classical Computer | Quantum Computer |\n",
       "|---------|--------------------|------------------|\n",
       "| **Basic unit** | **Bit** – 0 or 1 | **Qubit** – 0, 1, or *both at once* |\n",
       "| **How it stores data** | Bits are like tiny light switches that are either **off** or **on** | Qubits are like spinning tops that can be **off, on, or in a superposition** of both |\n",
       "| **How it processes data** | Logic gates flip bits in a deterministic way (e.g., 0 → 1) | Quantum gates manipulate qubits using *probabilities* and *phase*, letting many possibilities interfere |\n",
       "| **Speed advantage** | Computes one path at a time | Can explore many paths simultaneously (thanks to superposition + entanglement) |\n",
       "| **Real‑world use cases** | Everyday software, spreadsheets, web browsing | Cracking encryption, simulating molecules, optimizing logistics, AI research |\n",
       "\n",
       "---\n",
       "\n",
       "### 1. The “Superposition” Trick\n",
       "\n",
       "- Think of a qubit as a coin that, instead of being *heads* or *tails*, can be **both** at once until you look at it.  \n",
       "- This means a single qubit can hold two bits of information simultaneously (in a probabilistic sense).\n",
       "\n",
       "### 2. The “Entanglement” Boost\n",
       "\n",
       "- When two qubits become entangled, the state of one instantly affects the state of the other, no matter how far apart they are.  \n",
       "- This creates a powerful network of correlated qubits that can solve certain problems faster than any classical network.\n",
       "\n",
       "### 3. Quantum Gates vs. Classical Gates\n",
       "\n",
       "| Classical Gate | Quantum Gate |\n",
       "|----------------|--------------|\n",
       "| AND, OR, NOT | Hadamard, CNOT, Phase shift |\n",
       "| Deterministic | Probabilistic & phase‑based |\n",
       "\n",
       "- Quantum gates are like “mixing bowls” that blend probabilities together.  \n",
       "- By carefully arranging many gates, you can amplify the **correct** answer while cancelling out the wrong ones (a process called *interference*).\n",
       "\n",
       "### 4. Why It Matters\n",
       "\n",
       "| Problem | Classical Time | Quantum Time (theory) |\n",
       "|---------|----------------|-----------------------|\n",
       "| Factoring a 2048‑bit number | ~10¹⁰⁰ years | ~minutes (Shor’s algorithm) |\n",
       "| Simulating a protein | Infeasible | Feasible (for many molecules) |\n",
       "| Optimization (e.g., routing, scheduling) | Exponential | Exponential‑speedup (Grover’s algorithm) |\n",
       "\n",
       "---\n",
       "\n",
       "### 5. A Very Simple Example\n",
       "\n",
       "Imagine you want to find a specific word in a dictionary that has 1,000,000 entries.\n",
       "\n",
       "- **Classical**: Check each word one by one → 1,000,000 checks.  \n",
       "- **Quantum (Grover’s algorithm)**: You can find the word in roughly √1,000,000 ≈ 1,000 checks.\n",
       "\n",
       "It’s not magic; it’s the power of exploring many possibilities at once.\n",
       "\n",
       "---\n",
       "\n",
       "### Bottom Line\n",
       "\n",
       "Quantum computers don’t replace classical computers for everyday tasks. Instead, they are **special‑purpose machines** that excel at problems where *parallel exploration* and *probabilistic interference* give a real edge. Think of them as a new kind of engine that can turbo‑charge specific scientific and cryptographic calculations."
      ],
      "text/plain": [
       "<IPython.core.display.Markdown object>"
      ]
     },
     "metadata": {},
     "output_type": "display_data"
    },
    {
     "name": "stdout",
     "output_type": "stream",
     "text": [
      "History Length: 4\n",
      "\n",
      "Final History:\n",
      "User: What's the capital of France?...\n",
      "Assistant: The capital of France is **Paris**....\n",
      "User: Explain quantum computing simply....\n",
      "Assistant: ## Quantum Computing – A Super‑Simple Overview\n",
      "\n",
      "| ...\n",
      "\n",
      "=== Demo 3: Length Truncation (Max Chars=500, Words=100) ===\n",
      "\n",
      "User: Hello, what's the weather like today?\n"
     ]
    },
    {
     "data": {
      "text/markdown": [
       "I don’t have real‑time weather data, so I can’t tell you the exact conditions right now.  \n",
       "If you let me know the city or region you’re interested in, I can suggest how to check:\n",
       "\n",
       "| Option | How to Use |\n",
       "|--------|------------|\n",
       "| **Weather Apps** | Open your phone’s built‑in weather app or a third‑party app (e.g., Weather.com, AccuWeather). |\n",
       "| **Web Search** | Type “weather in [City]” into Google, Bing, or another search engine. |\n",
       "| **Voice Assistants** | Ask Siri, Google Assistant, or Alexa: “What’s the weather today in [City]?” |\n",
       "| **Local News** | Check the weather segment on your local TV station’s website. |\n",
       "\n",
       "If you tell me the location, I can give you a quick summary of what you’d typically expect (e.g., temperature range, chance of rain, etc.)."
      ],
      "text/plain": [
       "<IPython.core.display.Markdown object>"
      ]
     },
     "metadata": {},
     "output_type": "display_data"
    },
    {
     "name": "stdout",
     "output_type": "stream",
     "text": [
      "History Length: 2\n",
      "\n",
      "User: Tell me a joke.\n"
     ]
    },
    {
     "data": {
      "text/markdown": [
       "**Why don’t scientists trust atoms?**  \n",
       "\n",
       "Because they *make up* everything! 😄"
      ],
      "text/plain": [
       "<IPython.core.display.Markdown object>"
      ]
     },
     "metadata": {},
     "output_type": "display_data"
    },
    {
     "name": "stdout",
     "output_type": "stream",
     "text": [
      "History Length: 2\n",
      "\n",
      "User: What's the capital of France?\n"
     ]
    },
    {
     "data": {
      "text/markdown": [
       "The capital of France is **Paris**."
      ],
      "text/plain": [
       "<IPython.core.display.Markdown object>"
      ]
     },
     "metadata": {},
     "output_type": "display_data"
    },
    {
     "name": "stdout",
     "output_type": "stream",
     "text": [
      "History Length: 4\n",
      "\n",
      "User: Explain quantum computing simply.\n"
     ]
    },
    {
     "data": {
      "text/markdown": [
       "## Quantum Computing in Plain English\n",
       "\n",
       "| **Concept** | **Classical (your laptop) | **Quantum (future super‑computer)** |\n",
       "|-------------|---------------------------|-------------------------------------|\n",
       "| **Basic unit** | **Bit** – 0 or 1 | **Qubit** – 0, 1, *or both at once* |\n",
       "| **Storage** | 1 bit = one binary digit | 1 qubit = a *superposition* of 0 and 1 |\n",
       "| **Operation** | Flip, copy, read – always deterministic | Rotate, entangle, measure – probabilistic |\n",
       "| **Parallelism** | One computation at a time | Exponentially many “paths” explored simultaneously |\n",
       "| **Error** | Rare, but correctable | More fragile, needs error‑correcting codes |\n",
       "\n",
       "---\n",
       "\n",
       "### 1. Bits vs. Qubits\n",
       "\n",
       "| Classical bit | Quantum qubit |\n",
       "|---------------|---------------|\n",
       "| **State** | Exactly 0 or 1 | **State** | A weighted blend of 0 and 1 (superposition) |\n",
       "| **Representation** | 1 bit of information | 1 qubit can encode 2^n possibilities for n qubits |\n",
       "| **Measurement** | Reading gives 0 or 1 definitively | Measuring collapses the qubit to 0 or 1, but the *probability* depends on the superposition |\n",
       "\n",
       "**Think of a classical bit like a light switch (off/on).**  \n",
       "A qubit is like a spinning coin that is *both* heads and tails until you look at it.\n",
       "\n",
       "---\n",
       "\n",
       "### 2. Superposition\n",
       "\n",
       "- **Definition**: A qubit can be in a combination of 0 and 1 simultaneously.\n",
       "- **Mathematical form**: |ψ⟩ = α|0⟩ + β|1⟩, where |α|² + |β|² = 1.\n",
       "- **Why it matters**: A system of *n* qubits can represent all 2ⁿ states at once, giving a massive parallelism.\n",
       "\n",
       "---\n",
       "\n",
       "### 3. Entanglement\n",
       "\n",
       "- **What it is**: Two or more qubits become linked so that the state of one instantly influences the state of another, no matter the distance.\n",
       "- **Result**: Correlated outcomes that classical bits can’t replicate.\n",
       "- **Analogy**: Two dice that always show the same number, even if rolled far apart.\n",
       "\n",
       "---\n",
       "\n",
       "### 4. Quantum Gates (Operations)\n",
       "\n",
       "| Classical gate | Quantum gate |\n",
       "|----------------|--------------|\n",
       "| AND, OR, NOT | Hadamard, Pauli‑X, CNOT, etc. |\n",
       "| Deterministic | Can create, manipulate superpositions and entanglement |\n",
       "| Simple arithmetic | Complex transformations on probability amplitudes |\n",
       "\n",
       "- **Hadamard gate (H)** turns |0⟩ into an equal superposition (|0⟩+|1⟩)/√2.\n",
       "- **CNOT gate** entangles two qubits.\n",
       "\n",
       "---\n",
       "\n",
       "### 5. Measurement\n",
       "\n",
       "- **Collapse**: Observing a qubit forces it into either |0⟩ or |1⟩.\n",
       "- **Probability**: Determined by the amplitudes before measurement.\n",
       "- **Key point**: The computation’s usefulness comes from *interference* of amplitudes before measurement.\n",
       "\n",
       "---\n",
       "\n",
       "### 6. Why It’s Powerful\n",
       "\n",
       "| Problem | Classical solution | Quantum solution |\n",
       "|---------|-------------------|------------------|\n",
       "| Factoring large numbers | Exponential time (Shor’s algorithm) | Polynomial time (Shor’s algorithm) |\n",
       "| Searching unsorted database | O(n) | O(√n) (Grover’s algorithm) |\n",
       "| Simulating quantum systems | Infeasible for large systems | Natural fit (quantum simulation) |\n",
       "\n",
       "> **Bottom line**: Quantum computers exploit superposition and entanglement to process many possibilities *in parallel*, then use interference and measurement to extract useful results far faster than classical computers for certain tasks.\n",
       "\n",
       "---\n",
       "\n",
       "### 7. Current Reality\n",
       "\n",
       "- **Qubits are fragile**: They lose coherence quickly (decoherence).\n",
       "- **Error correction**: Requires many physical qubits per logical qubit.\n",
       "- **Hardware**: Superconducting circuits, trapped ions, photonic systems, etc.\n",
       "- **Practical use**: Still early, but already useful for simulation, optimization, and cryptographic research.\n",
       "\n",
       "---\n",
       "\n",
       "### 8. Quick Summary\n",
       "\n",
       "| Feature | Classical | Quantum |\n",
       "|---------|-----------|---------|\n",
       "| **Basic unit** | Bit (0/1) | Qubit (0,1, superposition) |\n",
       "| **Parallelism** | Linear | Exponential (n qubits → 2ⁿ states) |\n",
       "| **Key phenomena** | Deterministic | Superposition, entanglement |\n",
       "| **Typical speed‑up** | Linear | Polynomial or exponential for special problems |\n",
       "| **Current status** | Mainstream | Research & emerging tech |\n",
       "\n",
       "Feel free to ask if you'd like a deeper dive into any of these topics!"
      ],
      "text/plain": [
       "<IPython.core.display.Markdown object>"
      ]
     },
     "metadata": {},
     "output_type": "display_data"
    },
    {
     "name": "stdout",
     "output_type": "stream",
     "text": [
      "History Length: 2\n",
      "\n",
      "Final History:\n",
      "User: Explain quantum computing simply....\n",
      "Assistant: ## Quantum Computing in Plain English\n",
      "\n",
      "| **Concept...\n",
      "\n",
      "=== Demo 4: Periodic Summarization (Every 3rd Run) ===\n",
      "\n",
      "Interaction 1 - User: Hello, what's the weather like today?\n"
     ]
    },
    {
     "data": {
      "text/markdown": [
       "I’m sorry, but I don’t have access to live weather data.  \n",
       "If you let me know the city or ZIP code you’re interested in, I can:\n",
       "\n",
       "- **Explain typical weather patterns for that region**  \n",
       "- **Show how to check a reliable weather service**  \n",
       "- **Give you a quick guide on interpreting forecasts**\n",
       "\n",
       "Just drop the location and I’ll help!"
      ],
      "text/plain": [
       "<IPython.core.display.Markdown object>"
      ]
     },
     "metadata": {},
     "output_type": "display_data"
    },
    {
     "name": "stdout",
     "output_type": "stream",
     "text": [
      "History Length: 2\n",
      "\n",
      "Interaction 2 - User: Tell me a joke.\n"
     ]
    },
    {
     "data": {
      "text/markdown": [
       "> **Why don't scientists trust atoms?**  \n",
       "> \n",
       "> **Because they make up everything!** 😄"
      ],
      "text/plain": [
       "<IPython.core.display.Markdown object>"
      ]
     },
     "metadata": {},
     "output_type": "display_data"
    },
    {
     "name": "stdout",
     "output_type": "stream",
     "text": [
      "History Length: 4\n",
      "\n",
      "Interaction 3 - User: What's the capital of France?\n"
     ]
    },
    {
     "data": {
      "text/markdown": [
       "The capital of France is **Paris**."
      ],
      "text/plain": [
       "<IPython.core.display.Markdown object>"
      ]
     },
     "metadata": {},
     "output_type": "display_data"
    },
    {
     "data": {
      "text/markdown": [
       "## Conversation Flow & Key Insights\n",
       "\n",
       "| Step | Assistant Action | Key Insight |\n",
       "|------|------------------|-------------|\n",
       "| 1 | **Apologized** for lacking live weather data. | Acknowledges limitation, sets tone for transparent assistance. |\n",
       "| 2 | **Offered educational help**: explain typical regional weather patterns. | Provides context beyond raw data. |\n",
       "| 3 | **Suggested reliable weather services** to check live data. | Guides user to trustworthy sources. |\n",
       "| 4 | **Provided a quick guide on interpreting forecasts** when a location is supplied. | Empowers user to understand forecast nuances. |\n",
       "| 5 | **Acknowledged user’s location mention** (“Paris is the capital of France”). | Recognizes user input, ready to tailor advice to Paris. |\n",
       "\n",
       "### Take‑away Summary\n",
       "- The assistant focused on transparency and empowerment rather than giving unavailable real‑time data.  \n",
       "- It offered actionable steps: learning patterns, using trusted services, and interpreting forecasts.  \n",
       "- The user’s mention of Paris signals readiness to provide Paris‑specific guidance when the assistant receives the location."
      ],
      "text/plain": [
       "<IPython.core.display.Markdown object>"
      ]
     },
     "metadata": {},
     "output_type": "display_data"
    },
    {
     "name": "stdout",
     "output_type": "stream",
     "text": [
      "\n",
      "--- Advanced Hierarchical Summarization (after 3 interactions) ---\n",
      "\n",
      "History Length: 1\n",
      "\n",
      "Interaction 4 - User: Explain quantum computing simply.\n"
     ]
    },
    {
     "data": {
      "text/markdown": [
       "## Quantum Computing – A Quick, Simple Overview\n",
       "\n",
       "| Concept | Classical Computer | Quantum Computer |\n",
       "|---------|--------------------|------------------|\n",
       "| **Basic unit** | **Bit** – 0 or 1 | **Qubit** – can be 0, 1, or *both at once* |\n",
       "| **State** | Deterministic | Probabilistic (superposition) |\n",
       "| **Interaction** | Bits are independent | Qubits can be *entangled* – the state of one instantly affects another |\n",
       "| **Operations** | Logical gates (AND, OR, NOT) | Quantum gates (Hadamard, CNOT, etc.) that rotate qubit states |\n",
       "| **Speed‑up** | Linear scaling | Exponential scaling for certain problems (e.g., factoring, search) |\n",
       "\n",
       "---\n",
       "\n",
       "### 1. Bits vs. Qubits\n",
       "\n",
       "| Classical Bit | Quantum Qubit |\n",
       "|---------------|---------------|\n",
       "| One of two definite states: **0** or **1** | A **superposition**: a weighted mix of 0 and 1 |\n",
       "| Example: a light switch is either off or on | Example: a spinning coin is both heads and tails *until you look* |\n",
       "\n",
       "**Key idea:** A qubit can encode *more information* because it exists in many states simultaneously.\n",
       "\n",
       "---\n",
       "\n",
       "### 2. Superposition\n",
       "\n",
       "- Think of a qubit as a spinning wheel that can point to any angle.  \n",
       "- While spinning, you can consider it to be in **all** positions at once.  \n",
       "- Only when you measure it does it “collapse” to a single outcome (0 or 1).\n",
       "\n",
       "---\n",
       "\n",
       "### 3. Entanglement\n",
       "\n",
       "- Two qubits can become linked so that the state of one instantly tells you about the other, no matter how far apart they are.  \n",
       "- This correlation allows quantum computers to process complex relationships between data points in parallel.\n",
       "\n",
       "---\n",
       "\n",
       "### 4. Quantum Gates & Circuits\n",
       "\n",
       "- Quantum gates are like tiny “twists” that change the qubit’s probabilities.  \n",
       "- By chaining many gates, you create a **quantum circuit** that performs a computation.  \n",
       "- The circuit’s final measurement gives you a classical answer, but the computation happened in a massively parallel “superposed” space.\n",
       "\n",
       "---\n",
       "\n",
       "### 5. Why It Matters\n",
       "\n",
       "| Problem | Classical Time | Quantum Time (theoretically) |\n",
       "|---------|----------------|------------------------------|\n",
       "| Factor large numbers (RSA) | Exponential | Polynomial (Shor’s algorithm) |\n",
       "| Search unsorted database | O(n) | O(√n) (Grover’s algorithm) |\n",
       "| Simulate quantum systems | Hard | Natural fit |\n",
       "\n",
       "> **Bottom line:** Quantum computers don’t replace classical computers for everything. They excel at specific tasks where quantum effects provide a speed‑up.\n",
       "\n",
       "---\n",
       "\n",
       "### 6. Current Reality\n",
       "\n",
       "- **Hardware**: Small, noisy qubits (tens–hundreds) that require cryogenic temperatures.  \n",
       "- **Noise**: Errors happen; researchers use **error correction** and **fault‑tolerant** designs.  \n",
       "- **Applications**: Early prototypes are used for cryptography research, material science, and optimization problems.\n",
       "\n",
       "---\n",
       "\n",
       "### 7. Quick Analogy\n",
       "\n",
       "| Classical | Quantum |\n",
       "|-----------|---------|\n",
       "| Reading a book page by page | Reading every page at once (but you only get a single page when you “look”) |\n",
       "\n",
       "---\n",
       "\n",
       "### TL;DR\n",
       "\n",
       "- **Classical bits**: 0 or 1.  \n",
       "- **Quantum qubits**: 0 + 1 (superposition) + instant correlation (entanglement).  \n",
       "- **Gates** manipulate probabilities, not deterministic bits.  \n",
       "- **Speed‑ups** for specific problems (factoring, search, simulation).  \n",
       "- **Hardware** still experimental, but progress is rapid.\n",
       "\n",
       "Feel free to ask about any part that sparks curiosity—whether it’s the math behind superposition or the practical challenges of building a quantum chip!"
      ],
      "text/plain": [
       "<IPython.core.display.Markdown object>"
      ]
     },
     "metadata": {},
     "output_type": "display_data"
    },
    {
     "name": "stdout",
     "output_type": "stream",
     "text": [
      "History Length: 3\n",
      "\n",
      "Final History:\n",
      "System: Hierarchical summary of previous conversation:\n",
      "## ...\n",
      "User: Explain quantum computing simply....\n",
      "Assistant: ## Quantum Computing – A Quick, Simple Overview\n",
      "\n",
      "|...\n"
     ]
    }
   ],
   "source": [
    "import openai\n",
    "import os\n",
    "from IPython.display import display, Markdown\n",
    "\n",
    "# Set up Groq API client\n",
    "os.environ[\"GROQ_API_KEY\"] = \"\"  # Replace with your key\n",
    "client = openai.OpenAI(\n",
    "    base_url=\"https://api.groq.com/openai/v1\",\n",
    "    api_key=os.environ.get(\"GROQ_API_KEY\")\n",
    ")\n",
    "\n",
    "MODEL = \"openai/gpt-oss-20b\"\n",
    "\n",
    "# Internal completion (no display for scoring/chunks)\n",
    "def get_completion_internal(messages, model=MODEL):\n",
    "    system_prompt = messages[0][\"content\"] if messages and messages[0][\"role\"] == \"system\" else \"You are a helpful assistant.\"\n",
    "    messages = [{\"role\": \"system\", \"content\": system_prompt}] + (messages[1:] if messages[0][\"role\"] != \"system\" else messages)\n",
    "    response = client.chat.completions.create(\n",
    "        model=model,\n",
    "        messages=messages,\n",
    "        temperature=0.7,\n",
    "        max_tokens=1500\n",
    "    )\n",
    "    return response.choices[0].message.content\n",
    "\n",
    "# User-visible completion (markdown display)\n",
    "def get_completion(messages, model=MODEL):\n",
    "    content = get_completion_internal(messages, model)\n",
    "    display(Markdown(content))\n",
    "    return content\n",
    "\n",
    "# Hierarchical summarization\n",
    "def summarize_history(history, chunk_size=3):\n",
    "    if len(history) <= chunk_size:\n",
    "        formatted = \"\\n\".join([f\"{msg['role'].capitalize()}: {msg['content']}\" for msg in history])\n",
    "        prompt = [\n",
    "            {\"role\": \"system\", \"content\": \"Summarize this conversation concisely in markdown, using tables or lists for clarity, capturing key points and context.\"},\n",
    "            {\"role\": \"user\", \"content\": formatted}\n",
    "        ]\n",
    "        return get_completion(prompt)\n",
    "    \n",
    "    chunks = [history[i:i+chunk_size] for i in range(0, len(history), chunk_size)]\n",
    "    chunk_summaries = []\n",
    "    for i, chunk in enumerate(chunks):\n",
    "        formatted_chunk = \"\\n\".join([f\"{msg['role'].capitalize()}: {msg['content']}\" for msg in chunk])\n",
    "        prompt = [\n",
    "            {\"role\": \"system\", \"content\": f\"Summarize chunk {i+1} concisely.\"},\n",
    "            {\"role\": \"user\", \"content\": formatted_chunk}\n",
    "        ]\n",
    "        chunk_summaries.append(get_completion_internal(prompt))\n",
    "    \n",
    "    meta_formatted = \"\\n\".join(chunk_summaries)\n",
    "    meta_prompt = [\n",
    "        {\"role\": \"system\", \"content\": \"Create a high-level markdown summary from these chunk summaries, using tables or lists, focusing on conversation flow and key insights.\"},\n",
    "        {\"role\": \"user\", \"content\": meta_formatted}\n",
    "    ]\n",
    "    return get_completion(meta_prompt)\n",
    "\n",
    "# Semantic relevance scorer\n",
    "def score_relevance(message, current_context):\n",
    "    prompt = [\n",
    "        {\"role\": \"system\", \"content\": \"Score the relevance of this message to the ongoing conversation (0-10, higher=more relevant). Respond with just the number.\"},\n",
    "        {\"role\": \"user\", \"content\": f\"Context: {current_context}\\nMessage: {message['content']}\"}\n",
    "    ]\n",
    "    score_str = get_completion_internal(prompt).strip()\n",
    "    try:\n",
    "        return int(score_str)\n",
    "    except:\n",
    "        return 5\n",
    "\n",
    "# Advanced ConversationManager\n",
    "class ConversationManager:\n",
    "    def __init__(self, max_turns=None, max_chars=None, max_words=None, summarize_every_k=None, semantic_threshold=None, min_messages=2):\n",
    "        \"\"\"\n",
    "        Advanced manager with:\n",
    "        - max_turns: Limit to last n messages.\n",
    "        - max_chars/max_words: Total length limits.\n",
    "        - summarize_every_k: Hierarchical summarization every k interactions.\n",
    "        - semantic_threshold: Remove messages with relevance < threshold (if set).\n",
    "        - min_messages: Ensure at least this many messages remain after truncation.\n",
    "        \"\"\"\n",
    "        self.history = []\n",
    "        self.max_turns = max_turns\n",
    "        self.max_chars = max_chars\n",
    "        self.max_words = max_words\n",
    "        self.summarize_every_k = summarize_every_k\n",
    "        self.semantic_threshold = semantic_threshold\n",
    "        self.min_messages = max(min_messages, 2)  # Ensure at least 2\n",
    "        self.interaction_count = 0\n",
    "\n",
    "    def apply_semantic_truncation(self):\n",
    "        if len(self.history) < self.min_messages:\n",
    "            return\n",
    "        recent_history = self.history[-5:]  # Cap at 5 for efficiency\n",
    "        current_context = self.history[-1][\"content\"][:200]\n",
    "        scored_history = []\n",
    "        for msg in recent_history:\n",
    "            score = score_relevance(msg, current_context)\n",
    "            if score >= self.semantic_threshold:\n",
    "                scored_history.append(msg)\n",
    "        # Ensure min_messages\n",
    "        self.history = self.history[:max(0, len(self.history) - len(scored_history))] + scored_history\n",
    "        if len(self.history) < self.min_messages and len(scored_history) > 0:\n",
    "            self.history = scored_history[-self.min_messages:]\n",
    "\n",
    "    def truncate_history(self):\n",
    "        if self.semantic_threshold is not None:\n",
    "            self.apply_semantic_truncation()\n",
    "        \n",
    "        if self.max_turns and len(self.history) > max(self.max_turns, self.min_messages):\n",
    "            self.history = self.history[-(max(self.max_turns, self.min_messages)):]\n",
    "\n",
    "        full_content = \" \".join([msg['content'] for msg in self.history])\n",
    "        \n",
    "        if self.max_chars:\n",
    "            while len(full_content) > self.max_chars and len(self.history) > self.min_messages:\n",
    "                self.history.pop(0)\n",
    "                full_content = \" \".join([msg['content'] for msg in self.history])\n",
    "\n",
    "        if self.max_words:\n",
    "            while len(full_content.split()) > self.max_words and len(self.history) > self.min_messages:\n",
    "                self.history.pop(0)\n",
    "                full_content = \" \".join([msg['content'] for msg in self.history])\n",
    "\n",
    "    def check_periodic_summarization(self):\n",
    "        if self.summarize_every_k and self.interaction_count % self.summarize_every_k == 0 and self.interaction_count > 0:\n",
    "            if len(self.history) > 1:\n",
    "                summary = summarize_history(self.history)\n",
    "                print(f\"\\n--- Advanced Hierarchical Summarization (after {self.interaction_count} interactions) ---\\n\")\n",
    "                self.history = [{\"role\": \"system\", \"content\": f\"Hierarchical summary of previous conversation:\\n{summary}\"}]\n",
    "\n",
    "    def chat(self, user_input, system_prompt=\"You are a helpful assistant. Respond using markdown for clarity (e.g., tables, lists, bold).\"):\n",
    "        self.interaction_count += 1\n",
    "        messages = [{\"role\": \"system\", \"content\": system_prompt}] + self.history + [{\"role\": \"user\", \"content\": user_input}]\n",
    "        response = get_completion(messages)\n",
    "        self.history.append({\"role\": \"user\", \"content\": user_input})\n",
    "        self.history.append({\"role\": \"assistant\", \"content\": response})\n",
    "        self.truncate_history()\n",
    "        self.check_periodic_summarization()\n",
    "        return response\n",
    "\n",
    "# Demonstrations\n",
    "samples = [\n",
    "    \"Hello, what's the weather like today?\",\n",
    "    \"Tell me a joke.\",\n",
    "    \"What's the capital of France?\",\n",
    "    \"Explain quantum computing simply.\"\n",
    "]\n",
    "\n",
    "print(\"=== Demo 1: Basic Conversation (No Truncation/Semantic) ===\")\n",
    "manager = ConversationManager()\n",
    "for sample in samples:\n",
    "    print(f\"\\nUser: {sample}\")\n",
    "    response = manager.chat(sample)\n",
    "    print(f\"History Length: {len(manager.history)}\")\n",
    "print(\"\\nFinal History:\")\n",
    "for msg in manager.history:\n",
    "    print(f\"{msg['role'].capitalize()}: {msg['content'][:50]}...\")\n",
    "\n",
    "print(\"\\n=== Demo 2: Semantic Truncation (Threshold=4, Max Turns=4) ===\")\n",
    "manager_sem = ConversationManager(max_turns=4, semantic_threshold=4)\n",
    "for sample in samples:\n",
    "    print(f\"\\nUser: {sample}\")\n",
    "    response = manager_sem.chat(sample)\n",
    "    print(f\"History Length: {len(manager_sem.history)}\")\n",
    "print(\"\\nFinal History:\")\n",
    "for msg in manager_sem.history:\n",
    "    print(f\"{msg['role'].capitalize()}: {msg['content'][:50]}...\")\n",
    "\n",
    "print(\"\\n=== Demo 3: Length Truncation (Max Chars=500, Words=100) ===\")\n",
    "manager_len = ConversationManager(max_chars=500, max_words=100, min_messages=2)\n",
    "for sample in samples:\n",
    "    print(f\"\\nUser: {sample}\")\n",
    "    response = manager_len.chat(sample)\n",
    "    print(f\"History Length: {len(manager_len.history)}\")\n",
    "print(\"\\nFinal History:\")\n",
    "for msg in manager_len.history:\n",
    "    print(f\"{msg['role'].capitalize()}: {msg['content'][:50]}...\")\n",
    "\n",
    "print(\"\\n=== Demo 4: Periodic Summarization (Every 3rd Run) ===\")\n",
    "manager_periodic = ConversationManager(summarize_every_k=3)\n",
    "for i, sample in enumerate(samples, 1):\n",
    "    print(f\"\\nInteraction {i} - User: {sample}\")\n",
    "    response = manager_periodic.chat(sample)\n",
    "    print(f\"History Length: {len(manager_periodic.history)}\")\n",
    "print(\"\\nFinal History:\")\n",
    "for msg in manager_periodic.history:\n",
    "    print(f\"{msg['role'].capitalize()}: {msg['content'][:50]}...\")"
   ]
  },
  {
   "cell_type": "markdown",
   "id": "8d96839d",
   "metadata": {},
   "source": [
    "**Final advanced Task 2**"
   ]
  },
  {
   "cell_type": "code",
   "execution_count": null,
   "id": "9d7e5ab6",
   "metadata": {},
   "outputs": [
    {
     "name": "stdout",
     "output_type": "stream",
     "text": [
      "=== Advanced Task 2: JSON Schema PII Extraction Demo (2025 Best Practices) ===\n",
      "\n",
      "**Sample Chat 1**\n"
     ]
    },
    {
     "data": {
      "text/markdown": [
       "**Original Transcript**:\n",
       "User: Hi, I'm John Doe, emailing from john.doe@example.com. My phone is +1-555-123-4567. I live in New York, NY, and I'm 28 years old."
      ],
      "text/plain": [
       "<IPython.core.display.Markdown object>"
      ]
     },
     "metadata": {},
     "output_type": "display_data"
    },
    {
     "data": {
      "text/markdown": [
       "**Masked Transcript (for display)**:\n",
       "User: Hi, I'm John Doe, emailing from [EMAIL]. My phone is [PHONE]. I live in New York, NY, and I'm [AGE]."
      ],
      "text/plain": [
       "<IPython.core.display.Markdown object>"
      ]
     },
     "metadata": {},
     "output_type": "display_data"
    },
    {
     "data": {
      "text/markdown": [
       "**Extracted PII**:\n",
       "```json\n",
       "{\n",
       "  \"age\": 28,\n",
       "  \"email\": \"john.doe@example.com\",\n",
       "  \"location\": \"New York, NY\",\n",
       "  \"name\": \"John Doe\",\n",
       "  \"phone\": \"+1-555-123-4567\"\n",
       "}\n",
       "```"
      ],
      "text/plain": [
       "<IPython.core.display.Markdown object>"
      ]
     },
     "metadata": {},
     "output_type": "display_data"
    },
    {
     "data": {
      "text/markdown": [
       "**Validation Results**:\n",
       "```json\n",
       "{\n",
       "  \"valid\": true,\n",
       "  \"details\": \"All fields conform to schema (required present, types/patterns match, no extras).\"\n",
       "}\n",
       "```"
      ],
      "text/plain": [
       "<IPython.core.display.Markdown object>"
      ]
     },
     "metadata": {},
     "output_type": "display_data"
    },
    {
     "data": {
      "text/markdown": [
       "**Status**: ✅ Valid"
      ],
      "text/plain": [
       "<IPython.core.display.Markdown object>"
      ]
     },
     "metadata": {},
     "output_type": "display_data"
    },
    {
     "name": "stdout",
     "output_type": "stream",
     "text": [
      "\n",
      "**Sample Chat 2**\n"
     ]
    },
    {
     "data": {
      "text/markdown": [
       "**Original Transcript**:\n",
       "Assistant: Thanks for reaching out. User: Sure, my name is Jane Smith, email jane@work.com, phone 123-456-7890, and location is London, UK. Age not mentioned."
      ],
      "text/plain": [
       "<IPython.core.display.Markdown object>"
      ]
     },
     "metadata": {},
     "output_type": "display_data"
    },
    {
     "data": {
      "text/markdown": [
       "**Masked Transcript (for display)**:\n",
       "Assistant: Thanks for reaching out. User: Sure, my name is Jane Smith, email [EMAIL], phone [PHONE], and location is London, UK. Age not mentioned."
      ],
      "text/plain": [
       "<IPython.core.display.Markdown object>"
      ]
     },
     "metadata": {},
     "output_type": "display_data"
    },
    {
     "data": {
      "text/markdown": [
       "**Extracted PII**:\n",
       "```json\n",
       "{\n",
       "  \"age\": null,\n",
       "  \"email\": \"jane@work.com\",\n",
       "  \"location\": \"London, UK\",\n",
       "  \"name\": \"Jane Smith\",\n",
       "  \"phone\": \"123-456-7890\"\n",
       "}\n",
       "```"
      ],
      "text/plain": [
       "<IPython.core.display.Markdown object>"
      ]
     },
     "metadata": {},
     "output_type": "display_data"
    },
    {
     "data": {
      "text/markdown": [
       "**Validation Results**:\n",
       "```json\n",
       "{\n",
       "  \"valid\": true,\n",
       "  \"details\": \"All fields conform to schema (required present, types/patterns match, no extras).\"\n",
       "}\n",
       "```"
      ],
      "text/plain": [
       "<IPython.core.display.Markdown object>"
      ]
     },
     "metadata": {},
     "output_type": "display_data"
    },
    {
     "data": {
      "text/markdown": [
       "**Status**: ✅ Valid"
      ],
      "text/plain": [
       "<IPython.core.display.Markdown object>"
      ]
     },
     "metadata": {},
     "output_type": "display_data"
    },
    {
     "name": "stdout",
     "output_type": "stream",
     "text": [
      "\n",
      "**Sample Chat 3**\n"
     ]
    },
    {
     "data": {
      "text/markdown": [
       "**Original Transcript**:\n",
       "User: Hello, this is Alice Johnson from Seattle, WA. No email or phone shared, and I won't tell my age."
      ],
      "text/plain": [
       "<IPython.core.display.Markdown object>"
      ]
     },
     "metadata": {},
     "output_type": "display_data"
    },
    {
     "data": {
      "text/markdown": [
       "**Masked Transcript (for display)**:\n",
       "User: Hello, this is Alice Johnson from Seattle, WA. No email or phone shared, and I won't tell my age."
      ],
      "text/plain": [
       "<IPython.core.display.Markdown object>"
      ]
     },
     "metadata": {},
     "output_type": "display_data"
    },
    {
     "data": {
      "text/markdown": [
       "**Extracted PII**:\n",
       "```json\n",
       "{\n",
       "  \"age\": null,\n",
       "  \"email\": null,\n",
       "  \"location\": \"Seattle, WA\",\n",
       "  \"name\": \"Alice Johnson\",\n",
       "  \"phone\": null\n",
       "}\n",
       "```"
      ],
      "text/plain": [
       "<IPython.core.display.Markdown object>"
      ]
     },
     "metadata": {},
     "output_type": "display_data"
    },
    {
     "data": {
      "text/markdown": [
       "**Validation Results**:\n",
       "```json\n",
       "{\n",
       "  \"valid\": true,\n",
       "  \"details\": \"All fields conform to schema (required present, types/patterns match, no extras).\"\n",
       "}\n",
       "```"
      ],
      "text/plain": [
       "<IPython.core.display.Markdown object>"
      ]
     },
     "metadata": {},
     "output_type": "display_data"
    },
    {
     "data": {
      "text/markdown": [
       "**Status**: ✅ Valid"
      ],
      "text/plain": [
       "<IPython.core.display.Markdown object>"
      ]
     },
     "metadata": {},
     "output_type": "display_data"
    },
    {
     "name": "stdout",
     "output_type": "stream",
     "text": [
      "\n",
      "**Sample Chat 4**\n"
     ]
    },
    {
     "data": {
      "text/markdown": [
       "**Original Transcript**:\n",
       "User: I'm Bob Wilson, 35 years old, from Toronto, Canada. Contact me at bob.wilson@company.org or +1-416-555-0123."
      ],
      "text/plain": [
       "<IPython.core.display.Markdown object>"
      ]
     },
     "metadata": {},
     "output_type": "display_data"
    },
    {
     "data": {
      "text/markdown": [
       "**Masked Transcript (for display)**:\n",
       "User: I'm Bob Wilson, [AGE], from Toronto, Canada. Contact me at [EMAIL] or [PHONE]."
      ],
      "text/plain": [
       "<IPython.core.display.Markdown object>"
      ]
     },
     "metadata": {},
     "output_type": "display_data"
    },
    {
     "data": {
      "text/markdown": [
       "**Extracted PII**:\n",
       "```json\n",
       "{\n",
       "  \"age\": 35,\n",
       "  \"email\": \"bob.wilson@company.org\",\n",
       "  \"location\": \"Toronto, Canada\",\n",
       "  \"name\": \"Bob Wilson\",\n",
       "  \"phone\": \"+1-416-555-0123\"\n",
       "}\n",
       "```"
      ],
      "text/plain": [
       "<IPython.core.display.Markdown object>"
      ]
     },
     "metadata": {},
     "output_type": "display_data"
    },
    {
     "data": {
      "text/markdown": [
       "**Validation Results**:\n",
       "```json\n",
       "{\n",
       "  \"valid\": true,\n",
       "  \"details\": \"All fields conform to schema (required present, types/patterns match, no extras).\"\n",
       "}\n",
       "```"
      ],
      "text/plain": [
       "<IPython.core.display.Markdown object>"
      ]
     },
     "metadata": {},
     "output_type": "display_data"
    },
    {
     "data": {
      "text/markdown": [
       "**Status**: ✅ Valid"
      ],
      "text/plain": [
       "<IPython.core.display.Markdown object>"
      ]
     },
     "metadata": {},
     "output_type": "display_data"
    }
   ],
   "source": [
    "import openai\n",
    "import os\n",
    "import json\n",
    "import jsonschema\n",
    "import re\n",
    "from IPython.display import display, Markdown\n",
    "import time\n",
    "\n",
    "# Set up Groq API client\n",
    "os.environ[\"GROQ_API_KEY\"] = \"\"  \n",
    "client = openai.OpenAI(\n",
    "    base_url=\"https://api.groq.com/openai/v1\",\n",
    "    api_key=os.environ.get(\"GROQ_API_KEY\")\n",
    ")\n",
    "\n",
    "MODEL = \"openai/gpt-oss-20b\"\n",
    "\n",
    "# Refined JSON schema for PII extraction\n",
    "PII_SCHEMA = {\n",
    "    \"type\": \"object\",\n",
    "    \"properties\": {\n",
    "        \"name\": {\n",
    "            \"type\": \"string\",\n",
    "            \"description\": \"Full name of the person (required, e.g., 'John Doe').\",\n",
    "            \"minLength\": 1,\n",
    "            \"maxLength\": 100\n",
    "        },\n",
    "        \"email\": {\n",
    "            \"type\": [\"string\", \"null\"],\n",
    "            \"description\": \"Email address (optional, e.g., 'john@example.com'). Use null if absent.\",\n",
    "            \"pattern\": \"^[a-zA-Z0-9._%+-]+@[a-zA-Z0-9.-]+\\\\.[a-zA-Z]{2,}$\",\n",
    "            \"maxLength\": 100\n",
    "        },\n",
    "        \"phone\": {\n",
    "            \"type\": [\"string\", \"null\"],\n",
    "            \"description\": \"Phone number (optional, e.g., '+1-555-123-4567'). Use null if absent.\",\n",
    "            \"pattern\": \"^\\\\+?\\\\d[\\\\d\\\\s\\\\-\\\\(\\\\)]{9,}$\",\n",
    "            \"maxLength\": 20\n",
    "        },\n",
    "        \"location\": {\n",
    "            \"type\": \"string\",\n",
    "            \"description\": \"Location or city (required, e.g., 'New York, NY').\",\n",
    "            \"minLength\": 1,\n",
    "            \"maxLength\": 100\n",
    "        },\n",
    "        \"age\": {\n",
    "            \"type\": [\"integer\", \"null\"],\n",
    "            \"description\": \"Age as integer (optional, 0-120). Use null if absent.\",\n",
    "            \"minimum\": 0,\n",
    "            \"maximum\": 120\n",
    "        }\n",
    "    },\n",
    "    \"required\": [\"name\", \"location\"],\n",
    "    \"additionalProperties\": False\n",
    "}\n",
    "\n",
    "# Mask PII for display (post-extraction privacy)\n",
    "def mask_pii_for_display(transcript):\n",
    "    \"\"\"Mask PII in transcript for display, preserving original for extraction.\"\"\"\n",
    "    masked = transcript\n",
    "    masked = re.sub(r'\\b[A-Za-z0-9._%+-]+@[A-Za-z0-9.-]+\\.[A-Z|a-z]{2,}\\b', '[EMAIL]', masked)\n",
    "    masked = re.sub(r'(\\+?\\d{1,3}[-.\\s]?)?\\(?\\d{3}\\)?[-.\\s]?\\d{3}[-.\\s]?\\d{4}', '[PHONE]', masked)\n",
    "    masked = re.sub(r'\\b\\d{1,3}\\s*(years? old|age)\\b', '[AGE]', masked)\n",
    "    return masked\n",
    "\n",
    "# Advanced PII extraction with robust retry\n",
    "def extract_pii(chat_transcript, max_retries=3):\n",
    "    \"\"\"\n",
    "    Extract PII using function calling with enhanced prompting and error handling.\n",
    "    Returns structured JSON or None on failure.\n",
    "    \"\"\"\n",
    "    function_definition = {\n",
    "        \"name\": \"extract_pii\",\n",
    "        \"description\": \"Extract PII from chat transcript: name (required), location (required), email/phone/age (optional, null if absent).\",\n",
    "        \"parameters\": PII_SCHEMA\n",
    "    }\n",
    "    \n",
    "    messages = [\n",
    "        {\"role\": \"system\", \"content\": \"\"\"You are an expert PII extractor. Follow these steps:\n",
    "1. Identify explicit mentions of name, email, phone, location, age in the transcript.\n",
    "2. Extract ONLY explicitly mentioned data; use null for absent fields (email, phone, age).\n",
    "3. Ensure name/location are non-empty strings if mentioned.\n",
    "4. Validate formats: email (user@domain.com), phone (+digits or digits with separators), age (0-120).\n",
    "5. Return valid JSON matching the schema, with no extra fields or inferences.\"\"\"},\n",
    "        {\"role\": \"user\", \"content\": chat_transcript}  # Send original transcript\n",
    "    ]\n",
    "    \n",
    "    for attempt in range(max_retries):\n",
    "        try:\n",
    "            response = client.chat.completions.create(\n",
    "                model=MODEL,\n",
    "                messages=messages,\n",
    "                functions=[function_definition],\n",
    "                function_call={\"name\": \"extract_pii\"},\n",
    "                temperature=0.1,\n",
    "                max_tokens=500\n",
    "            )\n",
    "            pii_data = json.loads(response.choices[0].message.function_call.arguments)\n",
    "            return pii_data\n",
    "        except (json.JSONDecodeError, AttributeError) as e:\n",
    "            if attempt < max_retries - 1:\n",
    "                time.sleep(2 ** attempt)  # Exponential backoff\n",
    "                continue\n",
    "            # Fallback: Try raw completion\n",
    "            try:\n",
    "                response = client.chat.completions.create(\n",
    "                    model=MODEL,\n",
    "                    messages=messages + [{\"role\": \"system\", \"content\": \"Return JSON matching the schema.\"}],\n",
    "                    temperature=0.1,\n",
    "                    max_tokens=500\n",
    "                )\n",
    "                pii_data = json.loads(response.choices[0].message.content)\n",
    "                return pii_data\n",
    "            except Exception as e2:\n",
    "                display(Markdown(f\"**Retry Failed ({max_retries}x)**: {str(e)} (function call), {str(e2)} (fallback)\"))\n",
    "                return None\n",
    "    \n",
    "    return None\n",
    "\n",
    "# Enhanced validation with detailed reporting\n",
    "def validate_pii(pii_data):\n",
    "    \"\"\"Validate PII against schema, return detailed results.\"\"\"\n",
    "    try:\n",
    "        jsonschema.validate(instance=pii_data, schema=PII_SCHEMA)\n",
    "        return {\"valid\": True, \"details\": \"All fields conform to schema (required present, types/patterns match, no extras).\"}\n",
    "    except jsonschema.exceptions.ValidationError as e:\n",
    "        return {\"valid\": False, \"details\": {\"error\": str(e), \"field\": e.path[0] if e.path else \"schema\"}}\n",
    "\n",
    "# Demonstration: Parse 4 sample chats\n",
    "sample_chats = [\n",
    "    {\n",
    "        \"id\": 1,\n",
    "        \"transcript\": \"User: Hi, I'm John Doe, emailing from john.doe@example.com. My phone is +1-555-123-4567. I live in New York, NY, and I'm 28 years old.\"\n",
    "    },\n",
    "    {\n",
    "        \"id\": 2,\n",
    "        \"transcript\": \"Assistant: Thanks for reaching out. User: Sure, my name is Jane Smith, email jane@work.com, phone 123-456-7890, and location is London, UK. Age not mentioned.\"\n",
    "    },\n",
    "    {\n",
    "        \"id\": 3,\n",
    "        \"transcript\": \"User: Hello, this is Alice Johnson from Seattle, WA. No email or phone shared, and I won't tell my age.\"\n",
    "    },\n",
    "    {\n",
    "        \"id\": 4,\n",
    "        \"transcript\": \"User: I'm Bob Wilson, 35 years old, from Toronto, Canada. Contact me at bob.wilson@company.org or +1-416-555-0123.\"\n",
    "    }\n",
    "]\n",
    "\n",
    "print(\"=== Advanced Task 2: JSON Schema PII Extraction Demo (2025 Best Practices) ===\")\n",
    "for chat in sample_chats:\n",
    "    print(f\"\\n**Sample Chat {chat['id']}**\")\n",
    "    display(Markdown(f\"**Original Transcript**:\\n{chat['transcript']}\"))\n",
    "    display(Markdown(f\"**Masked Transcript (for display)**:\\n{mask_pii_for_display(chat['transcript'])}\"))\n",
    "    \n",
    "    # Extract PII\n",
    "    pii_data = extract_pii(chat['transcript'])\n",
    "    if pii_data:\n",
    "        display(Markdown(f\"**Extracted PII**:\\n```json\\n{json.dumps(pii_data, indent=2)}\\n```\"))\n",
    "    \n",
    "        # Validate\n",
    "        validation = validate_pii(pii_data)\n",
    "        display(Markdown(f\"**Validation Results**:\\n```json\\n{json.dumps(validation, indent=2)}\\n```\"))\n",
    "        status = \"✅ Valid\" if validation[\"valid\"] else \"❌ Invalid\"\n",
    "        display(Markdown(f\"**Status**: {status}\"))\n",
    "    else:\n",
    "        display(Markdown(\"**Status**: ❌ Extraction failed (check API key/rate limits)\"))"
   ]
  },
  {
   "cell_type": "code",
   "execution_count": null,
   "id": "186eb97e",
   "metadata": {},
   "outputs": [],
   "source": []
  }
 ],
 "metadata": {
  "kernelspec": {
   "display_name": "Python 3",
   "language": "python",
   "name": "python3"
  },
  "language_info": {
   "codemirror_mode": {
    "name": "ipython",
    "version": 3
   },
   "file_extension": ".py",
   "mimetype": "text/x-python",
   "name": "python",
   "nbconvert_exporter": "python",
   "pygments_lexer": "ipython3",
   "version": "3.12.0"
  }
 },
 "nbformat": 4,
 "nbformat_minor": 5
}
